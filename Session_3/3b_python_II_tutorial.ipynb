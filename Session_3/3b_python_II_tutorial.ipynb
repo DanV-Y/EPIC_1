{
 "cells": [
  {
   "cell_type": "markdown",
   "id": "aa268f46",
   "metadata": {},
   "source": [
    "# Data Analysis with python II (tutorial)"
   ]
  },
  {
   "cell_type": "markdown",
   "id": "b50caa6e",
   "metadata": {},
   "source": [
    "In this tutorial, we will open a VTk data file, we can use the vtk library for this."
   ]
  },
  {
   "cell_type": "code",
   "execution_count": 1,
   "id": "930be339",
   "metadata": {},
   "outputs": [],
   "source": [
    "import vtk\n",
    "import numpy as np\n",
    "import matplotlib.pyplot as plt"
   ]
  },
  {
   "cell_type": "markdown",
   "id": "a4d3236b",
   "metadata": {},
   "source": [
    "We define the input directory and file name:"
   ]
  },
  {
   "cell_type": "code",
   "execution_count": 2,
   "id": "9f67f991",
   "metadata": {},
   "outputs": [],
   "source": [
    "input_directory=\"./simulation_data/\"\n",
    "file_name = \"turbulence_sub.vtk\""
   ]
  },
  {
   "cell_type": "code",
   "execution_count": 3,
   "id": "a47d42ea",
   "metadata": {},
   "outputs": [],
   "source": [
    "# Here we include some lines to select the file we want to read\n",
    "\n",
    "reader = vtk.vtkDataSetReader()\n",
    "reader.SetFileName(input_directory+file_name)\n",
    "\n",
    "# Now, we read all the scalar and vector quantities\n",
    "reader.ReadAllScalarsOn()\n",
    "reader.ReadAllVectorsOn()\n",
    "reader.Update()"
   ]
  },
  {
   "cell_type": "code",
   "execution_count": 4,
   "id": "b3bcf234",
   "metadata": {
    "scrolled": false
   },
   "outputs": [
    {
     "name": "stdout",
     "output_type": "stream",
     "text": [
      "vtkRectilinearGrid (0x7fee45b02270)\n",
      "  Debug: Off\n",
      "  Modified Time: 1173\n",
      "  Reference Count: 2\n",
      "  Registered Events: (none)\n",
      "  Information: 0x7fee436f5940\n",
      "  Data Released: False\n",
      "  Global Release Data: Off\n",
      "  UpdateTime: 1210\n",
      "  Field Data:\n",
      "    Debug: Off\n",
      "    Modified Time: 725\n",
      "    Reference Count: 1\n",
      "    Registered Events: (none)\n",
      "    Number Of Arrays: 0\n",
      "    Number Of Components: 0\n",
      "    Number Of Tuples: 0\n",
      "  Number Of Points: 2601\n",
      "  Number Of Cells: 2500\n",
      "  Cell Data:\n",
      "    Debug: Off\n",
      "    Modified Time: 1171\n",
      "    Reference Count: 1\n",
      "    Registered Events: \n",
      "      Registered Observers:\n",
      "        vtkObserver (0x7fee45b177b0)\n",
      "          Event: 33\n",
      "          EventName: ModifiedEvent\n",
      "          Command: 0x7fee45b120d0\n",
      "          Priority: 0\n",
      "          Tag: 1\n",
      "    Number Of Arrays: 5\n",
      "    Array 0 name = rho\n",
      "    Array 1 name = vx1\n",
      "    Array 2 name = vx2\n",
      "    Array 3 name = Bx1\n",
      "    Array 4 name = Bx2\n",
      "    Number Of Components: 5\n",
      "    Number Of Tuples: 2500\n",
      "    Copy Tuple Flags: ( 1 1 1 1 1 0 1 1 )\n",
      "    Interpolate Flags: ( 1 1 1 1 1 0 0 1 )\n",
      "    Pass Through Flags: ( 1 1 1 1 1 1 1 1 )\n",
      "    Scalars: \n",
      "      Debug: Off\n",
      "      Modified Time: 1103\n",
      "      Reference Count: 1\n",
      "      Registered Events: (none)\n",
      "      Name: rho\n",
      "      Data type: float\n",
      "      Size: 2501\n",
      "      MaxId: 2499\n",
      "      NumberOfComponents: 1\n",
      "      Information: 0x7fee45c0aaf0\n",
      "        Debug: Off\n",
      "        Modified Time: 1102\n",
      "        Reference Count: 1\n",
      "        Registered Events: (none)\n",
      "      Name: rho\n",
      "      Number Of Components: 1\n",
      "      Number Of Tuples: 2500\n",
      "      Size: 2501\n",
      "      MaxId: 2499\n",
      "      LookupTable: (none)\n",
      "    Vectors: (none)\n",
      "    Normals: (none)\n",
      "    TCoords: (none)\n",
      "    Tensors: (none)\n",
      "    GlobalIds: (none)\n",
      "    PedigreeIds: (none)\n",
      "    EdgeFlag: (none)\n",
      "  Point Data:\n",
      "    Debug: Off\n",
      "    Modified Time: 1173\n",
      "    Reference Count: 1\n",
      "    Registered Events: \n",
      "      Registered Observers:\n",
      "        vtkObserver (0x7fee45b06a90)\n",
      "          Event: 33\n",
      "          EventName: ModifiedEvent\n",
      "          Command: 0x7fee45b120d0\n",
      "          Priority: 0\n",
      "          Tag: 1\n",
      "    Number Of Arrays: 0\n",
      "    Number Of Components: 0\n",
      "    Number Of Tuples: 0\n",
      "    Copy Tuple Flags: ( 1 1 1 1 1 0 1 1 )\n",
      "    Interpolate Flags: ( 1 1 1 1 1 0 0 1 )\n",
      "    Pass Through Flags: ( 1 1 1 1 1 1 1 1 )\n",
      "    Scalars: (none)\n",
      "    Vectors: (none)\n",
      "    Normals: (none)\n",
      "    TCoords: (none)\n",
      "    Tensors: (none)\n",
      "    GlobalIds: (none)\n",
      "    PedigreeIds: (none)\n",
      "    EdgeFlag: (none)\n",
      "  Bounds: \n",
      "    Xmin,Xmax: (-2, 2)\n",
      "    Ymin,Ymax: (-2, 2)\n",
      "    Zmin,Zmax: (0, 0)\n",
      "  Compute Time: 0\n",
      "  Dimensions: (51, 51, 1)\n",
      "  X Coordinates: 0x7fee45c8aee0\n",
      "  Y Coordinates: 0x7fee45c6be70\n",
      "  Z Coordinates: 0x7fee45c6d8b0\n",
      "  Extent: 0, 50, 0, 50, 0, 0\n",
      "\n",
      "\n"
     ]
    }
   ],
   "source": [
    "# Now, let's have a first look into the data\n",
    "data = reader.GetOutput()\n",
    "\n",
    "# Let's see the data structure\n",
    "print(data)"
   ]
  },
  {
   "cell_type": "markdown",
   "id": "bccab6f9",
   "metadata": {},
   "source": [
    "As we can see the data consists of a 2D grid of 50x50 cells/pixels, i.e. 2500 grid cells/pixels in total.\n",
    "\n",
    "The data are organised in 5 arrays:\n",
    "\n",
    "    Array 0 name = rho\n",
    "    Array 1 name = vx1\n",
    "    Array 2 name = vx2\n",
    "    Array 3 name = Bx1\n",
    "    Array 4 name = Bx2\n",
    "    \n",
    "Which we can now read with:"
   ]
  },
  {
   "cell_type": "code",
   "execution_count": 5,
   "id": "ba0ae12c",
   "metadata": {},
   "outputs": [],
   "source": [
    "dens = data.GetCellData().GetArray(\"rho\")\n",
    "velx = data.GetCellData().GetArray(\"vx1\")\n",
    "vely = data.GetCellData().GetArray(\"vx2\")\n",
    "bfix = data.GetCellData().GetArray(\"Bx1\")\n",
    "bfiy = data.GetCellData().GetArray(\"Bx2\")"
   ]
  },
  {
   "cell_type": "markdown",
   "id": "053c2707",
   "metadata": {},
   "source": [
    "However, after reading the data, we notice that we have 1D arrays, instead of 2D. \n"
   ]
  },
  {
   "cell_type": "code",
   "execution_count": 6,
   "id": "93970348",
   "metadata": {},
   "outputs": [
    {
     "name": "stdout",
     "output_type": "stream",
     "text": [
      "(2500,)\n"
     ]
    }
   ],
   "source": [
    "print(np.shape(dens))"
   ]
  },
  {
   "cell_type": "markdown",
   "id": "7a9f7302",
   "metadata": {},
   "source": [
    "Therefore, we need to re-shape the array into 2D.\n",
    "\n",
    "We can use the information on the dimensions from teh original VTK file."
   ]
  },
  {
   "cell_type": "code",
   "execution_count": 7,
   "id": "74c4bae0",
   "metadata": {},
   "outputs": [
    {
     "name": "stdout",
     "output_type": "stream",
     "text": [
      "unit_vectors = [50, 50, 0]\n"
     ]
    }
   ],
   "source": [
    "dim = data.GetDimensions()\n",
    "\n",
    "vec = list(dim)\n",
    "vec = [i-1 for i in dim]\n",
    "\n",
    "print(\"unit_vectors =\", vec)"
   ]
  },
  {
   "cell_type": "markdown",
   "id": "8a000c2d",
   "metadata": {},
   "source": [
    "Let's then use the above information for re-shaping the array:"
   ]
  },
  {
   "cell_type": "code",
   "execution_count": 8,
   "id": "464d2818",
   "metadata": {},
   "outputs": [
    {
     "name": "stdout",
     "output_type": "stream",
     "text": [
      "(2500,) (50, 50)\n"
     ]
    }
   ],
   "source": [
    "rho = np.reshape(dens,(vec[0],vec[1]))\n",
    "\n",
    "print(np.shape(dens), np.shape(rho))"
   ]
  },
  {
   "cell_type": "markdown",
   "id": "3683377c",
   "metadata": {},
   "source": [
    "As we can see, the original density array has been converted from 1D to 2D.\n",
    "\n",
    "Thus, let's do the same with all the other arrays."
   ]
  },
  {
   "cell_type": "code",
   "execution_count": 9,
   "id": "9950719c",
   "metadata": {},
   "outputs": [],
   "source": [
    "vx = np.reshape(velx,(vec[0],vec[1]))\n",
    "vy = np.reshape(vely,(vec[0],vec[1]))\n",
    "Bx = np.reshape(bfix,(vec[0],vec[1]))\n",
    "By = np.reshape(bfiy,(vec[0],vec[1]))"
   ]
  },
  {
   "cell_type": "markdown",
   "id": "8a28dcbb",
   "metadata": {},
   "source": [
    "Now, let's take a first look at the 2D data"
   ]
  },
  {
   "cell_type": "code",
   "execution_count": 10,
   "id": "00aa1334",
   "metadata": {},
   "outputs": [
    {
     "data": {
      "image/png": "[encoded data removed]",
      "text/plain": [
       "<Figure size 640x480 with 1 Axes>"
      ]
     },
     "metadata": {},
     "output_type": "display_data"
    }
   ],
   "source": [
    "# Density map\n",
    "plt.imshow(rho.T, interpolation='none')\n",
    "plt.show()"
   ]
  },
  {
   "cell_type": "markdown",
   "id": "204bfc5f",
   "metadata": {},
   "source": [
    "This maps shows that the gas is highly turbulent. It has dense (in yellow) and difusse (in drak purple) regions.\n",
    "\n",
    "\n",
    "Let's now calculate and plot the flow speeds:\n",
    "\n",
    "$$ v = \\sqrt{v_x^2 + v_y^2}$$\n",
    "\n",
    "And teh magnetic flux densities:\n",
    "\n",
    "$$ B = \\sqrt{B_x^2 + B_y^2}$$"
   ]
  },
  {
   "cell_type": "code",
   "execution_count": 11,
   "id": "6f61e674",
   "metadata": {},
   "outputs": [],
   "source": [
    "# Flow speed\n",
    "speed = np.sqrt(vx**2+vy**2)\n",
    "\n",
    "# Magnetic field\n",
    "bmagf = np.sqrt(Bx**2+By**2)"
   ]
  },
  {
   "cell_type": "code",
   "execution_count": 12,
   "id": "63f8f575",
   "metadata": {},
   "outputs": [
    {
     "data": {
      "image/png": "[encoded data removed]",
      "text/plain": [
       "<Figure size 640x480 with 1 Axes>"
      ]
     },
     "metadata": {},
     "output_type": "display_data"
    }
   ],
   "source": [
    "# Flow speed map\n",
    "plt.imshow(speed.T, interpolation='none', cmap='Blues')\n",
    "plt.show()"
   ]
  },
  {
   "cell_type": "code",
   "execution_count": 13,
   "id": "6f7aea2f",
   "metadata": {},
   "outputs": [
    {
     "data": {
      "image/png": "[encoded data removed]",
      "text/plain": [
       "<Figure size 640x480 with 1 Axes>"
      ]
     },
     "metadata": {},
     "output_type": "display_data"
    }
   ],
   "source": [
    "# Magnetic flux density map\n",
    "plt.imshow(bmagf.T, interpolation='none', cmap='Reds')\n",
    "plt.show()"
   ]
  },
  {
   "cell_type": "code",
   "execution_count": null,
   "id": "dafe3260",
   "metadata": {},
   "outputs": [],
   "source": []
  }
 ],
 "metadata": {
  "kernelspec": {
   "display_name": "Python 3",
   "language": "python",
   "name": "python3"
  },
  "language_info": {
   "codemirror_mode": {
    "name": "ipython",
    "version": 3
   },
   "file_extension": ".py",
   "mimetype": "text/x-python",
   "name": "python",
   "nbconvert_exporter": "python",
   "pygments_lexer": "ipython3",
   "version": "3.7.10"
  }
 },
 "nbformat": 4,
 "nbformat_minor": 5
}
