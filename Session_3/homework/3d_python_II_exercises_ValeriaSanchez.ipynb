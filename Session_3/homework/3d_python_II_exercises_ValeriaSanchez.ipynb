{
 "cells": [
  {
   "cell_type": "markdown",
   "id": "aa268f46",
   "metadata": {},
   "source": [
    "# Homework\n",
    "Valeria Sanchez"
   ]
  },
  {
   "cell_type": "markdown",
   "id": "250b1189",
   "metadata": {},
   "source": [
    "## Wladimir Banda-Barragán"
   ]
  },
  {
   "cell_type": "markdown",
   "id": "b50caa6e",
   "metadata": {},
   "source": [
    "Please complete the following problems. You can work with your **TEAM** members.\n",
    "\n",
    "When you finish, you can call your notebook with the TEAM's name, e.g. TEAM_name.ipynb, and also include your names in the notebook. Then, you can create a pull request to the subfolder **homework** in Session 3.\n",
    "\n",
    "Note that data for the exercises are not given on purpose. Use online material to **INVESTIGATE** what data you need to solve the problems.\n",
    "\n",
    "Within a **SINGLE python notebook**, add the following:"
   ]
  },
  {
   "cell_type": "markdown",
   "id": "befda801",
   "metadata": {},
   "source": [
    "### Problem 1.\n",
    "Calculate:\n",
    "\n",
    "\n",
    " - The pressure of the plasma permeating the Solar corona. How does it compare to Earth's atmospheric pressure at the sea level? The number density of the Solar corona is $n=10^9\\,\\rm cm^{-3}$ and its temperature is $T=2\\times 10^6\\,\\rm K$.\n",
    " \n",
    " \n",
    " - The polytropic index of carbon-monoxide (CO) gas. Hint: Get the degrees of freedom first.\n",
    "\n",
    "\n",
    " - The mean particle mass (mean molecular weight) of air in our atmosphere (remember Nytrogen is the most abundant element). Once calculated, add it to the phase diagram $T$ vs. $\\mu$ shown in class. How does the value compare to that of atomic hydrogen?\n",
    "\n",
    "\n",
    " - The Reynolds number of the blood flow in the aorta. Hint: Use the Internet to get the parameters you need.\n",
    "\n",
    "\n"
   ]
  },
  {
   "cell_type": "markdown",
   "id": "6dc5fe29",
   "metadata": {},
   "source": [
    "--------------------------------------------------------------------------------------------------------------------\n",
    "In order to calculate n of our atmosphere, first we calculate $\\mu$:\n",
    "$$\\frac{1}{\\mu}=\\sum_i{\\frac{x_i}{A_i}}\\left(1+Z_i\\right),$$\n",
    "\n",
    "In the case of our atmosphere, made of nitrogen and oxygen mainly:\n",
    "\n",
    "$$\\frac{1}{\\mu}=0.5638$$\n",
    "$$\\mu=1.7736$$\n",
    "\n",
    "The density of the atmosphere at sea level is: 0.001225 $g/cm^3$.\n",
    "$$ n=4.13 \\times 10^{20}$$\n",
    "\n",
    "The typical temperature at sea level is 288.15 K\n"
   ]
  },
  {
   "cell_type": "code",
   "execution_count": 4,
   "id": "e90ea16e",
   "metadata": {},
   "outputs": [],
   "source": [
    "# Import some libraries\n",
    "import numpy as np\n",
    "import matplotlib.pyplot as plt\n",
    "\n",
    "# Define the EOS equation\n",
    "def pressure(x, y):\n",
    "    return (x*1.38e-16*y)"
   ]
  },
  {
   "cell_type": "code",
   "execution_count": 5,
   "id": "7f69bc58",
   "metadata": {},
   "outputs": [
    {
     "name": "stdout",
     "output_type": "stream",
     "text": [
      "Plasma in the Solar corona: 2.76000e-01\n",
      "Atmosphere at sea level: 1.64228e+07\n"
     ]
    }
   ],
   "source": [
    "print('Plasma in the Solar corona:', \"{:0.5e}\".format(pressure(10**(9),2.0*10**6.0)))\n",
    "print('Atmosphere at sea level:', \"{:0.5e}\".format(pressure(4.13*10**20,288.15)))"
   ]
  },
  {
   "cell_type": "code",
   "execution_count": 6,
   "id": "b5ea6923",
   "metadata": {},
   "outputs": [
    {
     "name": "stdout",
     "output_type": "stream",
     "text": [
      "(1000, 3200)\n",
      "[1.38000000e-26 1.41214433e-26 1.44503740e-26 ... 1.25857496e+16\n",
      " 1.28789094e+16 1.31788977e+16]\n"
     ]
    },
    {
     "data": {
      "image/png": "[encoded data removed]",
      "text/plain": [
       "<Figure size 432x288 with 2 Axes>"
      ]
     },
     "metadata": {
      "needs_background": "light"
     },
     "output_type": "display_data"
    }
   ],
   "source": [
    "# Plot pressure again, including the two points above.\n",
    "n1 = 9   #ya saque el log\n",
    "T1 = 6\n",
    "\n",
    "n2 = 20.61\n",
    "T2 = 2.45\n",
    "\n",
    "# Create a 2D grid with n and T as X and Y. rango en escala logaritmica\n",
    "number_density = np.arange(-10,22,0.01)\n",
    "temperature = np.arange(0,10,0.01)\n",
    "\n",
    "X, Y = np.meshgrid(number_density, temperature) # crear mallado\n",
    "\n",
    "# Compute pressure on the grid\n",
    "pressure_1D = np.array(pressure(np.ravel(10**X), np.ravel(10**Y)))\n",
    "Z = pressure_1D.reshape(X.shape) #como exponentes de 10\n",
    "#reshape: ajusta a malla\n",
    "print(Z.shape)\n",
    "print(pressure_1D)\n",
    "\n",
    "\n",
    "fig,ax=plt.subplots(1,1)\n",
    "cp = ax.contourf(X, Y, np.log10(Z), levels=np.linspace(-26, 16, 43), cmap='viridis')\n",
    "#aqui anadimos los puntos\n",
    "ax.scatter(n1, T1, c='red') \n",
    "ax.scatter(n2, T2, c='blue')\n",
    "    \n",
    "# Add a colorbar and customise axes\n",
    "fig.colorbar(cp) \n",
    "ax.set_title(r'$\\log_{10} p\\,\\rm [dyne\\,cm^{-2}$]')\n",
    "ax.set_xticks(np.arange(-10,23,2))\n",
    "ax.set_xlabel(r'$n\\,\\rm [cm^{-3}]$')\n",
    "ax.set_yticks(np.arange(0,11,1))\n",
    "ax.set_ylabel(r'$T\\,\\rm [K]$')\n",
    "plt.show()"
   ]
  },
  {
   "cell_type": "markdown",
   "id": "7df78ee1",
   "metadata": {},
   "source": [
    "--------------------------------------------------------------------------------------------------------------------\n",
    "The CO has 7 degrees of freedom: 3 traslational, 2 rotational and 2 vibrational. Thus:\n",
    "$$\\gamma = \\frac{9}{7} $$\n"
   ]
  },
  {
   "cell_type": "markdown",
   "id": "4394452f",
   "metadata": {},
   "source": [
    "--------------------------------------------------------------------------------------------------------------------\n",
    "As we calculated on the previous point:\n",
    "$$\\mu_{atm}=1.7736$$\n",
    "For nitrogen we have:\n",
    "$$\\mu_N=1.75$$\n",
    "Now for the same temperature we have:"
   ]
  },
  {
   "cell_type": "code",
   "execution_count": 10,
   "id": "ba37d7cf",
   "metadata": {},
   "outputs": [
    {
     "name": "stderr",
     "output_type": "stream",
     "text": [
      "<ipython-input-10-49e4e74a4dc3>:6: RuntimeWarning: divide by zero encountered in true_divide\n",
      "  return np.sqrt((gamma*k_B*temp)/(mu*amu))\n"
     ]
    },
    {
     "data": {
      "image/png": "[encoded data removed]",
      "text/plain": [
       "<Figure size 432x288 with 2 Axes>"
      ]
     },
     "metadata": {
      "needs_background": "light"
     },
     "output_type": "display_data"
    }
   ],
   "source": [
    "# Define the EOS equation\n",
    "def sound_speed(mu, temp):\n",
    "    gamma = 5./3. #For nitrogen too ie. atmosphere\n",
    "    k_B = 1.38e-16\n",
    "    amu = 1.660e-24 \n",
    "    return np.sqrt((gamma*k_B*temp)/(mu*amu))\n",
    "\n",
    "# Create a 2D grid with n and T as X and Y.\n",
    "mu = np.arange(0,30,0.01) \n",
    "temperature = np.arange(0,10,0.01)\n",
    "\n",
    "X, Y = np.meshgrid(mu, temperature)\n",
    "\n",
    "# Compute pressure on the grid\n",
    "sound_speed_1D = np.array(sound_speed(np.ravel(X), np.ravel(10**Y)))\n",
    "Z = sound_speed_1D.reshape(X.shape) #vel sonido en malla\n",
    "\n",
    "# Plot phase plot, including the two points above.\n",
    "mu1 = 0.2488\n",
    "T1 = 2.4\n",
    "\n",
    "mu2 = 0.243\n",
    "T2 = 2.4\n",
    "\n",
    "fig,ax=plt.subplots(1,1)\n",
    "cp = ax.contourf(X, Y, np.log10(Z), levels=np.linspace(3, 10, 91), cmap='magma_r')\n",
    "ax.scatter(mu1, T1, c='yellow')\n",
    "ax.scatter(mu2, T2, c='green')\n",
    "    \n",
    "# Add a colorbar and customise axes\n",
    "fig.colorbar(cp, ticks = np.arange(3,11,1))\n",
    "ax.set_title(r'$\\log_{10} c_{\\rm sound}\\,\\rm [cm\\,s^{-1}$]')\n",
    "ax.set_xticks(np.arange(0,31.0,2.0))\n",
    "ax.set_xlabel(r'$\\mu$')\n",
    "ax.set_yticks(np.arange(0,11,1))\n",
    "ax.set_ylabel(r'$T\\,\\rm [K]$')\n",
    "plt.show()"
   ]
  },
  {
   "cell_type": "markdown",
   "id": "7d9ba384",
   "metadata": {},
   "source": [
    "Practically the same point!"
   ]
  },
  {
   "cell_type": "markdown",
   "id": "5cc7312e",
   "metadata": {},
   "source": [
    "--------------------------------------------------------------------------------------------------------------------"
   ]
  },
  {
   "cell_type": "markdown",
   "id": "5fa71f83",
   "metadata": {},
   "source": [
    "### Problem 2.\n",
    "Considering the example of the swimming fish we saw in class, calculate the Reynolds numbers for different swimming speeds and make a plot of $R_{\\rm e}$ vs. speed. Indicate the laminar and turbulent regimes on the plot. At which speed does the fish start generating a turbulent flow in sea water?\n",
    "\n"
   ]
  },
  {
   "cell_type": "code",
   "execution_count": 44,
   "id": "cd173ced",
   "metadata": {},
   "outputs": [
    {
     "data": {
      "image/png": "[encoded data removed]",
      "text/plain": [
       "<Figure size 432x288 with 1 Axes>"
      ]
     },
     "metadata": {
      "needs_background": "light"
     },
     "output_type": "display_data"
    }
   ],
   "source": [
    "# Define Re function\n",
    "\n",
    "def Re_number(rho, vel, length, mu):\n",
    "    return (rho*vel*length)/(mu)\n",
    "\n",
    "# All quantities in SI units.\n",
    "\n",
    "mu=0.00122\n",
    "le=1\n",
    "rho=1026\n",
    "\n",
    "vel = np.arange(0,0.002,0.00011)\n",
    "#len(vel)\n",
    "R= Re_number(rho,vel,le,mu)\n",
    "#plotting\n",
    "fig,ax=plt.subplots(1,1)\n",
    "ax.plot(vel, R, c='blue') #Kolmogorov\n",
    "plt.axhline(y=1000, color='r', linestyle='-')\n",
    "plt.xticks(np.arange(0, 0.0021, step=0.0003))\n",
    "ax.set_title(r'R_e versus $speed$')\n",
    "ax.set_xlabel(r'v [m/s]')\n",
    "ax.set_ylabel(r'$R_e$')\n",
    "plt.show()\n",
    "#R"
   ]
  },
  {
   "cell_type": "markdown",
   "id": "80491672",
   "metadata": {},
   "source": [
    "Thus, a transition from laminar to turbulent regime occurs for a speed around 0.0012 m/s. Practically the fish always generates turbulence. As we in increase de speed, the Reynold number increase their magnitude."
   ]
  },
  {
   "cell_type": "markdown",
   "id": "20f4b053",
   "metadata": {},
   "source": [
    "### Problem 3.\n",
    "Download the full dataset from the 2D turbulence simulation that we analysed in class (TURB_DRIVE) and:\n",
    "\n",
    " - Calculate the rms flow velocity and the corresponding rms Mach number as a function of time (see equations in the lecture notebook).\n",
    " \n",
    " \n",
    " - Save the data into a text file as shown in the example in class, and then make a plot of rms Mach number versus time. Remember that the sound speed of the simulation is $c_{\\rm iso}=10\\,\\rm km\\,s^{-1}$.\n",
    " \n",
    " \n",
    " - Based on the result above, is the gas subsonic or supersonic in this simulation?\n",
    " \n",
    " \n",
    " - Calculate the gas pressure using the isothermal equation of state ($p=\\rho\\,c_{\\rm iso}^2$), and make and print a 2D map of the pressure for file #70.\n",
    " \n",
    " \n",
    " - Now that you have the pressure, you can calculate the so-called plasma beta of the gas, which is a dimensionless parameter that relates thermal, $p$, and magnetic pressure $\\left(\\frac{B^2}{8\\,\\pi}\\right)$. Compute the plasma beta and make and print a 2D map for file #70.\n",
    " \n",
    " $$\\beta = \\frac{8\\,\\pi\\,p}{B^2}$$\n",
    " \n",
    "\n",
    "Full Data: https://www.dropbox.com/sh/gt3grmb24no04lp/AAAxAZGErA1E1cpZ0xENF1Xma?dl=0"
   ]
  },
  {
   "cell_type": "code",
   "execution_count": null,
   "id": "e401b928",
   "metadata": {},
   "outputs": [],
   "source": []
  }
 ],
 "metadata": {
  "kernelspec": {
   "display_name": "Python 3",
   "language": "python",
   "name": "python3"
  },
  "language_info": {
   "codemirror_mode": {
    "name": "ipython",
    "version": 3
   },
   "file_extension": ".py",
   "mimetype": "text/x-python",
   "name": "python",
   "nbconvert_exporter": "python",
   "pygments_lexer": "ipython3",
   "version": "3.8.8"
  }
 },
 "nbformat": 4,
 "nbformat_minor": 5
}
