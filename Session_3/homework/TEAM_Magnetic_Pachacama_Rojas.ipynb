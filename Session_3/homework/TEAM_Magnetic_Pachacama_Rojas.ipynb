{
  "nbformat": 4,
  "nbformat_minor": 5,
  "metadata": {
    "kernelspec": {
      "display_name": "Python 3",
      "language": "python",
      "name": "python3"
    },
    "language_info": {
      "codemirror_mode": {
        "name": "ipython",
        "version": 3
      },
      "file_extension": ".py",
      "mimetype": "text/x-python",
      "name": "python",
      "nbconvert_exporter": "python",
      "pygments_lexer": "ipython3",
      "version": "3.7.10"
    },
    "colab": {
      "name": "TEAM_Magnetic_Pachacama_Rojas.ipynb",
      "provenance": [],
      "collapsed_sections": []
    }
  },
  "cells": [
    {
      "cell_type": "markdown",
      "metadata": {
        "id": "aa268f46"
      },
      "source": [
        "# Data Analysis with python II (tutorial)"
      ],
      "id": "aa268f46"
    },
    {
      "cell_type": "markdown",
      "metadata": {
        "id": "250b1189"
      },
      "source": [
        "## Wladimir E. Banda-Barragán"
      ],
      "id": "250b1189"
    },
    {
      "cell_type": "markdown",
      "metadata": {
        "id": "b50caa6e"
      },
      "source": [
        "When you finish, you can call your notebook with the TEAM's name, e.g. TEAM_name.ipynb, and also include your names in the notebook. Then, you can create a pull request to the subfolder **homework** in Session 3.\n",
        "\n",
        "Note that some data for the exercises are not given on purpose. Use online material to **investigate** what data you need to solve the problems.\n",
        "\n",
        "Within a **single python notebook**, add the following:"
      ],
      "id": "b50caa6e"
    },
    {
      "cell_type": "markdown",
      "metadata": {
        "id": "eATlQYiP01B9"
      },
      "source": [
        "# **TEAM Magnetic**\n",
        "## - **Joseth Pachacama**\n",
        "## - **Jack Rojas**"
      ],
      "id": "eATlQYiP01B9"
    },
    {
      "cell_type": "markdown",
      "metadata": {
        "id": "befda801"
      },
      "source": [
        "## **Problem 1.**\n",
        "Calculate:\n",
        "\n",
        "\n",
        " - The pressure of the plasma permeating the Solar corona. How does it compare to Earth's atmospheric pressure at the sea level? The number density of the Solar corona is $n=10^9\\,\\rm cm^{-3}$ and its temperature is $T=2\\times 10^6\\,\\rm K$.\n",
        " \n",
        " \n",
        " - The polytropic index of carbon-monoxide (CO) gas. Hint: Get the degrees of freedom first.\n",
        "\n",
        "\n",
        " - Calculate  the mean particle mass (mean molecular weight) of air in our atmosphere (remember Nytrogen is the most abundant element). Once calculated, add it to the phase diagram $T$ vs. $\\mu$ shown in class. How does the value compare to that of atomic hydrogen?\n",
        "\n",
        "\n",
        " - The Reynolds number of the blood flow in the aorta. Hint: Use the Internet to get the parameters you need."
      ],
      "id": "befda801"
    },
    {
      "cell_type": "markdown",
      "metadata": {
        "id": "XXnMyT_eX1wu"
      },
      "source": [
        "## **Pressure of the plasma permeating the Solar corona:**\n",
        "\n",
        "If we assume the gas is ideal, the EOS is:\n",
        "\n",
        "$$p = n\\,k_B\\,T,$$\n",
        "\n",
        "where $p$ is the thermal pressure.\n",
        "\n",
        "Plasma permeating the Solar corona have temperatures and number densities of:\n",
        "\n",
        "$$T_{\\rm psc} = 2 \\times 10^{6}\\,\\rm K$$\n",
        "$$n_{\\rm psc} = 10^{9}\\,\\rm cm^{-3}$$\n",
        "\n",
        "On the other hand, Earth's sea level has:\n",
        "\n",
        "$$T_{\\rm atm} = 298.15\\,\\rm K = 10^{2.47}\\,\\rm K$$\n",
        "$$n_{\\rm atm} = 2.504 \\times 10^{19}\\,\\rm cm^{-3}$$\n",
        "\n",
        "Using the EOS, we obtain the following pressures in $[\\rm dyne\\,cm^{-2}]$:"
      ],
      "id": "XXnMyT_eX1wu"
    },
    {
      "cell_type": "code",
      "metadata": {
        "id": "3SePBRYUWe4i"
      },
      "source": [
        "# Import some libraries\n",
        "import numpy as np\n",
        "import matplotlib.pyplot as plt\n",
        "\n",
        "# Define the EOS equation\n",
        "def pressure(n, T):\n",
        "    return (n*1.38e-16*T)"
      ],
      "id": "3SePBRYUWe4i",
      "execution_count": null,
      "outputs": []
    },
    {
      "cell_type": "code",
      "metadata": {
        "colab": {
          "base_uri": "https://localhost:8080/",
          "height": 339
        },
        "id": "PCZB8fcJXSwa",
        "outputId": "107608a3-5851-46ca-e70d-768377930997"
      },
      "source": [
        "# Plot pressure again, including the two points above.\n",
        "n1 = 9 #log\n",
        "T1 = np.log10(2*10**6.0)\n",
        "\n",
        "n2 = 19.3986343245\n",
        "T2 = 2.47\n",
        "\n",
        "# Create a 2D grid with n and T as X and Y.\n",
        "number_density = np.arange(-10,22,0.01)\n",
        "temperature = np.arange(0,10,0.01)\n",
        "\n",
        "X, Y = np.meshgrid(number_density, temperature)\n",
        "\n",
        "# Compute pressure on the grid\n",
        "pressure_2D = np.array(pressure(np.ravel(10**X), np.ravel(10**Y)))\n",
        "\n",
        "Z = pressure_2D.reshape(X.shape)\n",
        "#print(pressure_2D.shape,Z.shape)\n",
        "\n",
        "# Plot pressure\n",
        "fig,ax=plt.subplots(1,1)\n",
        "cp = ax.contourf(X, Y, np.log10(Z), levels=np.linspace(-26, 16, 43), cmap='viridis')\n",
        "\n",
        "# Adding data points\n",
        "ax.scatter(n1, T1, c='red')\n",
        "ax.scatter(n2, T2, c='blue')\n",
        "    \n",
        "# Add a colorbar and customise axes\n",
        "fig.colorbar(cp) \n",
        "ax.set_title(r'$\\log_{10} p\\,\\rm [dyne\\,cm^{-2}$]')\n",
        "ax.set_xticks(np.arange(-10,23,2))\n",
        "ax.set_xlabel(r'$\\log_{10} n\\,\\rm [cm^{-3}]$')\n",
        "ax.set_yticks(np.arange(0,11,1))\n",
        "ax.set_ylabel(r'$\\log_{10} T\\,\\rm [K]$')\n",
        "plt.show()\n",
        "\n",
        "# Printing the values\n",
        "print('Plasma permeating the Solar corona:', \"{:0.5e}\".format(pressure(10**(9),2*10**6.0)))\n",
        "print('Dry air in the atmosphere of our planet:', \"{:0.5e}\".format(pressure(2.504*10**19,10**2.47)))"
      ],
      "id": "PCZB8fcJXSwa",
      "execution_count": null,
      "outputs": [
        {
          "output_type": "display_data",
          "data": {
            "image/png": "[encoded data removed]",
            "text/plain": [
              "<Figure size 432x288 with 2 Axes>"
            ]
          },
          "metadata": {
            "needs_background": "light"
          }
        },
        {
          "output_type": "stream",
          "name": "stdout",
          "text": [
            "Plasma permeating the Solar corona: 2.76000e-01\n",
            "Dry air in the atmosphere of our planet: 1.01980e+06\n"
          ]
        }
      ]
    },
    {
      "cell_type": "markdown",
      "metadata": {
        "id": "YXpSiArgRj0j"
      },
      "source": [
        "From the graph and the computed values of the pressure of a plasma permeating a Solar corona and Earth's atmospheric pressure at sea level, we can see that even though the temperature is much higer on the **Solar corona**, the extremely low density there in comparisson to the **Earth's atmosphere** results in a **higher pressure** in the latter."
      ],
      "id": "YXpSiArgRj0j"
    },
    {
      "cell_type": "markdown",
      "metadata": {
        "id": "jP5OZ9v7d0k5"
      },
      "source": [
        "## **Politropic index of carbon-monoxide (CO) gas**\n",
        "\n",
        "The polytropic index (or heat capacity ratio):\n",
        "\n",
        "$$\\gamma = \\frac{c_P}{c_V},$$\n",
        "\n",
        "where $c_P$ and $c_V$ are the specific heat capacities at constant pressure and volume, also depends on the degrees of freedom, $f$, of the particles making up the gas:\n",
        "\n",
        "$$\\gamma = 1+\\frac{2}{f},$$\n",
        "\n",
        "where $f$ **for CO is the same as for diatomic molecules** $f=5$ (3 translational degrees plus 2 rotational degrees), so that $\\gamma=\\frac{7}{5}$."
      ],
      "id": "jP5OZ9v7d0k5"
    },
    {
      "cell_type": "markdown",
      "metadata": {
        "id": "5VZxpJRwgMQB"
      },
      "source": [
        "## **Mean particle mass (mean molecular weight) of air in our atmosphere**\n",
        "\n",
        "Nytrogen is the most abundant element of air in the atmosphere. Once calculated, add it to the phase diagram $T$ vs. $μ$ shown in class. How does the value compare to that of atomic hydrogen?\n",
        "\n",
        "## **Mean particle mass**\n",
        "\n",
        "It is estimated as follows:\n",
        "\n",
        "$$\\frac{1}{\\mu}=\\sum_i{\\frac{x_i}{A_i}}\\left(1+Z_i\\right),$$\n",
        "\n",
        "where $x_i$ is the fraction corresponding to each element, $i$, $A_i$ is the mass number of element $i$, and $Z_i$ is the charge of its nucleus.\n",
        "\n",
        "## **Air composition**\n",
        "\n",
        "The elements which mostly constitute air are: N, O, Ar.\n",
        "\n",
        "The repective mass fraction of each element are: 0.78, 0.21, 0.01.\n",
        "\n",
        "The respective mass numbers of each element are: 14.007, 15.999, 39.948.\n",
        "\n",
        "The respective nucleus charges of each element are: 7, 8, 18.\n"
      ],
      "id": "5VZxpJRwgMQB"
    },
    {
      "cell_type": "code",
      "metadata": {
        "colab": {
          "base_uri": "https://localhost:8080/",
          "height": 386
        },
        "id": "duyTxn3VbOKZ",
        "outputId": "514f93e6-66d2-4e2c-cd78-84ef651f938a"
      },
      "source": [
        "# Mass fraction of each element\n",
        "x = [0.78, 0.21, 0.01]\n",
        "\n",
        "# Mass number of each element\n",
        "A = [14.007, 15.999, 39.948]\n",
        "\n",
        "#Nucleus charges of each element\n",
        "Z = [7, 8, 18]\n",
        "\n",
        "muinv = 0.\n",
        "\n",
        "for i in range(0,3):\n",
        "  muinv = muinv + (x[i]/A[i])*(1 + Z[i])\n",
        "\n",
        "muA = 1./muinv\n",
        "Tatm = 298.15\n",
        "\n",
        "muH = 1./((1/1)*2)\n",
        "\n",
        "print(\"The mean particle mass of air in our atmosphere is {}\".format(round(muA,2)))\n",
        "print(\"The mean particle mass of atomic hydrogen is {}\".format(round(muH,2)))\n",
        "print(\"The mean particle mass of air in our atmosphere is higher than that of atomic hydrogen.\")\n",
        "print(\"\\n\")\n",
        "\n",
        "# Define the EOS equation\n",
        "def sound_speed(mu, temp):\n",
        "    gamma = 5./3.\n",
        "    k_B = 1.38e-16\n",
        "    amu = 1.660e-24 \n",
        "    return np.sqrt((gamma*k_B*temp)/(mu*amu))\n",
        "\n",
        "# Create a 2D grid with n and T as X and Y.\n",
        "mu = np.arange(0.01,30,0.01)\n",
        "temperature = np.arange(0.01,10,0.01)\n",
        "\n",
        "X, Y = np.meshgrid(mu, temperature)\n",
        "\n",
        "# Compute pressure on the grid\n",
        "sound_speed_1D = np.array(sound_speed(np.ravel(X), np.ravel(10**Y)))\n",
        "Z = sound_speed_1D.reshape(X.shape)\n",
        "\n",
        "# Plot pressure\n",
        "fig,ax=plt.subplots(1,1)\n",
        "cp = ax.contourf(X, Y, np.log10(Z), levels=np.linspace(3, 10, 91), cmap='magma_r')\n",
        "\n",
        "ax.scatter(muA, np.log10(Tatm), c='white')\n",
        "\n",
        "# Add a colorbar and customise axes\n",
        "fig.colorbar(cp, ticks = np.arange(3,11,1))\n",
        "ax.set_title(r'$\\log_{10} c_{\\rm sound}\\,\\rm [cm\\,s^{-1}$]')\n",
        "ax.set_xticks(np.arange(0,31.0,2.0))\n",
        "ax.set_xlabel(r'$\\mu$')\n",
        "ax.set_yticks(np.arange(0,11,1))\n",
        "ax.set_ylabel(r'$\\log_{10} T\\,\\rm [K]$')\n",
        "plt.show()"
      ],
      "id": "duyTxn3VbOKZ",
      "execution_count": null,
      "outputs": [
        {
          "output_type": "stream",
          "name": "stdout",
          "text": [
            "The mean particle mass of air in our atmosphere is 1.76\n",
            "The mean particle mass of atomic hydrogen is 0.5\n",
            "The mean particle mass of air in our atmosphere is higher than that of atomic hydrogen.\n",
            "\n",
            "\n"
          ]
        },
        {
          "output_type": "display_data",
          "data": {
            "image/png": "[encoded data removed]",
            "text/plain": [
              "<Figure size 432x288 with 2 Axes>"
            ]
          },
          "metadata": {
            "needs_background": "light"
          }
        }
      ]
    },
    {
      "cell_type": "markdown",
      "metadata": {
        "id": "D7J7dH5Mo1m9"
      },
      "source": [
        "## **The Reynolds number of the blood flow in the aorta.**\n",
        "\n",
        "Given a gas with density, $\\rho$, kinematic viscosity, $\\nu$, and dynamic viscosity $\\mu=\\rho\\,\\nu$, moving at a speed, $v$, the Reynolds numbers is:\n",
        "\n",
        "$$R_{\\rm e} = \\frac{v\\,l}{\\nu} = \\frac{\\rho\\,v\\,l}{\\mu}$$\n",
        "\n",
        "where $l$ is a characteristic length of the flow.\n",
        "\n",
        "Blood speed at the aorta: $40$ [cm/s]\n",
        "\n",
        "Characteristic lenght of the blood flow: $1.6$[cm/m²] - $2.1$[cm/m²] (considering the viarble aorta diameter)\n",
        "\n",
        "Blood kinematic viscosity: $2.8\\times10^{-3}$ [m²/s] - $3.8\\times10^{-3}$ [m²/s]\n",
        "\n",
        "\n"
      ],
      "id": "D7J7dH5Mo1m9"
    },
    {
      "cell_type": "code",
      "metadata": {
        "colab": {
          "base_uri": "https://localhost:8080/"
        },
        "id": "-jKpJlcizW77",
        "outputId": "7d8531fa-63db-4464-e3d0-6ebf4af78ede"
      },
      "source": [
        "# Define Re function\n",
        "\n",
        "def Re_number(rho, vel, length, mu):\n",
        "    return (rho*vel*length)/(mu)\n",
        "\n",
        "# All quantities in SI units.\n",
        "\n",
        "rho=1060\n",
        "vel=0.4\n",
        "l=0.0185\n",
        "mu=3.3*10e-4\n",
        "\n",
        "\n",
        "Reba = Re_number(rho, vel, l, mu)\n",
        "print('Reynolds number for the blood flow in  the aorta:', \"{:0.5e}\".format(Reba))"
      ],
      "id": "-jKpJlcizW77",
      "execution_count": 73,
      "outputs": [
        {
          "output_type": "stream",
          "name": "stdout",
          "text": [
            "Reynolds number for the blood flow in  the aorta: 2.37697e+03\n"
          ]
        }
      ]
    },
    {
      "cell_type": "markdown",
      "metadata": {
        "id": "McveZMtyWc10"
      },
      "source": [
        "## **Problem 2.**\n",
        "Considering the example of the swimming fish we saw in class, calculate the Reynolds numbers for different swimming speeds and make a plot of $R_{\\rm e}$ vs. speed. Indicate the laminar and turbulent regimes on the plot. At which speed does the fish start generating a turbulent flow in sea water?"
      ],
      "id": "McveZMtyWc10"
    },
    {
      "cell_type": "code",
      "metadata": {
        "colab": {
          "base_uri": "https://localhost:8080/",
          "height": 312
        },
        "id": "tHq9KDcR8bmT",
        "outputId": "383896ba-7acb-4829-b552-1076dd3b5476"
      },
      "source": [
        "# Define Re function\n",
        "\n",
        "def Re_number(rho, vel, length, mu):\n",
        "    return (rho*vel*length)/(mu)\n",
        "\n",
        "# All quantities in SI units.\n",
        "\n",
        "mu=0.00122\n",
        "le=1\n",
        "rho=1026\n",
        "vel1=27.78\n",
        "\n",
        "velfish = np.ndarray(shape=500)\n",
        "Refish = np.ndarray(shape=500)\n",
        "turb = np.ndarray(shape=500)\n",
        "\n",
        "v0 = 0.\n",
        "dv = 0.01/500\n",
        "\n",
        "for i in range(500):\n",
        "  velfish[i] = v0 + i*dv\n",
        "  turb[i] = 1.e3\n",
        "  Refish[i] = Re_number(rho, velfish[i], le, mu)\n",
        "\n",
        "\n",
        "yint = 1.e3\n",
        "xint = (1.e3*mu)/(rho*le)\n",
        "\n",
        "fig,ax=plt.subplots(1,1)\n",
        "\n",
        "# plotting\n",
        "plt.title(\"Reynolds number vs. fish speed\")\n",
        "plt.xlabel(\"Fish speed (m/s)\")\n",
        "plt.ylabel(\"Reynolds number\")\n",
        "plt.plot(velfish, Refish, color =\"blue\")\n",
        "plt.plot(velfish, turb, color =\"red\")\n",
        "ax.scatter(xint, yint, c='black')\n",
        "plt.show()\n",
        "\n",
        "print(\"The speed at which the turbulent regime begins is {:0.5e} m/s\".format(xint))"
      ],
      "id": "tHq9KDcR8bmT",
      "execution_count": 81,
      "outputs": [
        {
          "output_type": "display_data",
          "data": {
            "image/png": "[encoded data removed]",
            "text/plain": [
              "<Figure size 432x288 with 1 Axes>"
            ]
          },
          "metadata": {
            "needs_background": "light"
          }
        },
        {
          "output_type": "stream",
          "name": "stdout",
          "text": [
            "The speed at which the turbulent regime begins is 1.18908e-03 m/s\n"
          ]
        }
      ]
    },
    {
      "cell_type": "markdown",
      "metadata": {
        "id": "R9Cz4t6xWfz6"
      },
      "source": [
        "## **Problem 3.**\n",
        "Download the full dataset from the 2D turbulence simulation that we analysed in class (TURB_DRIVE) and:\n",
        "\n",
        " - Calculate the rms flow velocity and the corresponding rms Mach number as a function of time (see equations in the lecture notebook).\n",
        " \n",
        " \n",
        " - Save the data into a text file as shown in the example in class, and then make a plot of rms Mach number versus time. Remember that the sound speed of the simulation is $c_{\\rm iso}=10\\,\\rm km\\,s^{-1}$.\n",
        " \n",
        " \n",
        " - Based on the result above, is the gas subsonic or supersonic in this simulation?\n",
        " \n",
        " \n",
        " - Calculate the gas pressure using the isothermal equation of state ($p=\\rho\\,c_{\\rm iso}^2$), and make and print a 2D map of the pressure for file #70.\n",
        " \n",
        " \n",
        " - Now that you have the pressure, you can calculate the so-called plasma beta of the gas, which is a dimensionless parameter that relates thermal, $p$, and magnetic pressure $\\left(\\frac{B^2}{8\\,\\pi}\\right)$. Compute the plasma beta and make and print a 2D map for file #70.\n",
        " \n",
        " $$\\beta = \\frac{8\\,\\pi\\,p}{B^2}$$\n",
        " \n",
        "\n",
        "Full Data: https://www.dropbox.com/sh/gt3grmb24no04lp/AAAxAZGErA1E1cpZ0xENF1Xma?dl=0"
      ],
      "id": "R9Cz4t6xWfz6"
    },
    {
      "cell_type": "code",
      "metadata": {
        "id": "JgUrUiYmWgrS",
        "colab": {
          "base_uri": "https://localhost:8080/"
        },
        "outputId": "5be6c371-1e32-45b7-d914-ea11bb627a25"
      },
      "source": [
        "!pip install vtk==8.1.2\n",
        "import vtk\n",
        "import numpy as np\n",
        "import matplotlib.pyplot as plt\n",
        "\n",
        "from google.colab import drive\n",
        "drive.mount('/content/drive')"
      ],
      "id": "JgUrUiYmWgrS",
      "execution_count": 112,
      "outputs": [
        {
          "output_type": "stream",
          "name": "stdout",
          "text": [
            "Requirement already satisfied: vtk==8.1.2 in /usr/local/lib/python3.7/dist-packages (8.1.2)\n",
            "Drive already mounted at /content/drive; to attempt to forcibly remount, call drive.mount(\"/content/drive\", force_remount=True).\n"
          ]
        }
      ]
    },
    {
      "cell_type": "code",
      "metadata": {
        "id": "Pr_LIliaKMUH"
      },
      "source": [
        "# Here we include some lines to select the file we want to read\n",
        "\n",
        "reader = vtk.vtkDataSetReader()\n",
        "reader.SetFileName('/content/drive/My Drive/Colab Notebooks/TURB_DRIVE/data.0000.vtk')\n",
        "\n",
        "# Now, we read all the scalar and vector quantities\n",
        "reader.ReadAllScalarsOn()\n",
        "reader.ReadAllVectorsOn()\n",
        "reader.Update()"
      ],
      "id": "Pr_LIliaKMUH",
      "execution_count": 113,
      "outputs": []
    },
    {
      "cell_type": "code",
      "metadata": {
        "colab": {
          "base_uri": "https://localhost:8080/"
        },
        "id": "TDsc5y3KKNAl",
        "outputId": "c76f7e73-8f02-410c-8650-ac9bf11d533c"
      },
      "source": [
        "# Now, let's have a first look into the data\n",
        "data = reader.GetOutput()\n",
        "\n",
        "# Let's see the data structure\n",
        "print(data)"
      ],
      "id": "TDsc5y3KKNAl",
      "execution_count": 101,
      "outputs": [
        {
          "output_type": "stream",
          "name": "stdout",
          "text": [
            "vtkRectilinearGrid (0x55afffc71ce0)\n",
            "  Debug: Off\n",
            "  Modified Time: 1273\n",
            "  Reference Count: 2\n",
            "  Registered Events: (none)\n",
            "  Information: 0x55afffcf8b40\n",
            "  Data Released: False\n",
            "  Global Release Data: Off\n",
            "  UpdateTime: 1310\n",
            "  Field Data:\n",
            "    Debug: Off\n",
            "    Modified Time: 825\n",
            "    Reference Count: 1\n",
            "    Registered Events: (none)\n",
            "    Number Of Arrays: 0\n",
            "    Number Of Components: 0\n",
            "    Number Of Tuples: 0\n",
            "  Number Of Points: 2601\n",
            "  Number Of Cells: 2500\n",
            "  Cell Data:\n",
            "    Debug: Off\n",
            "    Modified Time: 1271\n",
            "    Reference Count: 1\n",
            "    Registered Events: \n",
            "      Registered Observers:\n",
            "        vtkObserver (0x55afeee75650)\n",
            "          Event: 33\n",
            "          EventName: ModifiedEvent\n",
            "          Command: 0x55afffcf8b00\n",
            "          Priority: 0\n",
            "          Tag: 1\n",
            "    Number Of Arrays: 5\n",
            "    Array 0 name = rho\n",
            "    Array 1 name = vx1\n",
            "    Array 2 name = vx2\n",
            "    Array 3 name = Bx1\n",
            "    Array 4 name = Bx2\n",
            "    Number Of Components: 5\n",
            "    Number Of Tuples: 2500\n",
            "    Copy Tuple Flags: ( 1 1 1 1 1 0 1 1 )\n",
            "    Interpolate Flags: ( 1 1 1 1 1 0 0 1 )\n",
            "    Pass Through Flags: ( 1 1 1 1 1 1 1 1 )\n",
            "    Scalars: \n",
            "      Debug: Off\n",
            "      Modified Time: 1203\n",
            "      Reference Count: 1\n",
            "      Registered Events: (none)\n",
            "      Name: rho\n",
            "      Data type: float\n",
            "      Size: 2501\n",
            "      MaxId: 2499\n",
            "      NumberOfComponents: 1\n",
            "      Information: 0x55afffcf9140\n",
            "        Debug: Off\n",
            "        Modified Time: 1202\n",
            "        Reference Count: 1\n",
            "        Registered Events: (none)\n",
            "      Name: rho\n",
            "      Number Of Components: 1\n",
            "      Number Of Tuples: 2500\n",
            "      Size: 2501\n",
            "      MaxId: 2499\n",
            "      LookupTable: (none)\n",
            "    Vectors: (none)\n",
            "    Normals: (none)\n",
            "    TCoords: (none)\n",
            "    Tensors: (none)\n",
            "    GlobalIds: (none)\n",
            "    PedigreeIds: (none)\n",
            "    EdgeFlag: (none)\n",
            "  Point Data:\n",
            "    Debug: Off\n",
            "    Modified Time: 1273\n",
            "    Reference Count: 1\n",
            "    Registered Events: \n",
            "      Registered Observers:\n",
            "        vtkObserver (0x55afeee75500)\n",
            "          Event: 33\n",
            "          EventName: ModifiedEvent\n",
            "          Command: 0x55afffcf8b00\n",
            "          Priority: 0\n",
            "          Tag: 1\n",
            "    Number Of Arrays: 0\n",
            "    Number Of Components: 0\n",
            "    Number Of Tuples: 0\n",
            "    Copy Tuple Flags: ( 1 1 1 1 1 0 1 1 )\n",
            "    Interpolate Flags: ( 1 1 1 1 1 0 0 1 )\n",
            "    Pass Through Flags: ( 1 1 1 1 1 1 1 1 )\n",
            "    Scalars: (none)\n",
            "    Vectors: (none)\n",
            "    Normals: (none)\n",
            "    TCoords: (none)\n",
            "    Tensors: (none)\n",
            "    GlobalIds: (none)\n",
            "    PedigreeIds: (none)\n",
            "    EdgeFlag: (none)\n",
            "  Bounds: \n",
            "    Xmin,Xmax: (-2, 2)\n",
            "    Ymin,Ymax: (-2, 2)\n",
            "    Zmin,Zmax: (0, 0)\n",
            "  Compute Time: 0\n",
            "  Dimensions: (51, 51, 1)\n",
            "  X Coordinates: 0x55afe4444960\n",
            "  Y Coordinates: 0x55afde79d0e0\n",
            "  Z Coordinates: 0x55afde79d590\n",
            "  Extent: 0, 50, 0, 50, 0, 0\n",
            "\n",
            "\n"
          ]
        }
      ]
    },
    {
      "cell_type": "code",
      "metadata": {
        "id": "Gbp_40lWK6KN"
      },
      "source": [
        "dens = data.GetCellData().GetArray(\"rho\") # in 1D -> vectors\n",
        "velx = data.GetCellData().GetArray(\"vx1\")\n",
        "vely = data.GetCellData().GetArray(\"vx2\")\n",
        "bfix = data.GetCellData().GetArray(\"Bx1\")\n",
        "bfiy = data.GetCellData().GetArray(\"Bx2\")"
      ],
      "id": "Gbp_40lWK6KN",
      "execution_count": 102,
      "outputs": []
    },
    {
      "cell_type": "code",
      "metadata": {
        "id": "ONIMBGqJLHQ_"
      },
      "source": [
        "rho = np.reshape(dens,(vec[0],vec[1])) # in code units /arbitrary\n",
        "vx = np.reshape(velx,(vec[0],vec[1]))\n",
        "vy = np.reshape(vely,(vec[0],vec[1]))\n",
        "Bx = np.reshape(bfix,(vec[0],vec[1]))\n",
        "By = np.reshape(bfiy,(vec[0],vec[1]))"
      ],
      "id": "ONIMBGqJLHQ_",
      "execution_count": 105,
      "outputs": []
    },
    {
      "cell_type": "code",
      "metadata": {
        "id": "x-HY969_LPjw"
      },
      "source": [
        "from astropy.io import ascii"
      ],
      "id": "x-HY969_LPjw",
      "execution_count": 114,
      "outputs": []
    },
    {
      "cell_type": "code",
      "metadata": {
        "id": "7Y-FVYR7NIG2"
      },
      "source": [
        "def read_my_vtk(file_name):\n",
        "    \"\"\"Read Pluto's VTK simulation files and returns the variables in CGS units\"\"\"\n",
        "    \n",
        "    # Path to files\n",
        "    input_directory=\"/content/drive/My Drive/Colab Notebooks/TURB_DRIVE/\"\n",
        "    file_name = file_name\n",
        "    times_file = \"vtk.out\" # For times\n",
        "    \n",
        "    # Normalisation values\n",
        "    l0 = 3.086e+18                    # Length is 1pc\n",
        "    v0 = 1.e+6                        # Velocity is 10km/s\n",
        "    rho0 = 1.66e-24                   # In g/cm^3\n",
        "    mu = 6.72E-01                     # Mean particle mass\n",
        "    mm = 1.660E-24                    # 1 Atomic mass unit\n",
        "    kb = 1.380E-16                    # in CGS units\n",
        "    tem0 = (mu*(mm*(v0**2))/kb)       # in K\n",
        "    bfi0 = 4*np.pi*(rho0*(v0**2))   # in Gauss\n",
        "\n",
        "    # Standard VTK loading routines\n",
        "    reader= vtk.vtkDataSetReader()\n",
        "    reader.SetFileName(input_directory+file_name)\n",
        "    reader.ReadAllVectorsOn()\n",
        "    reader.ReadAllScalarsOn()\n",
        "    reader.Update()\n",
        "\n",
        "    # Get data using hearder information\n",
        "    data = reader.GetOutput() \n",
        "    dens = data.GetCellData().GetArray(\"rho\")\n",
        "    vel1 = data.GetCellData().GetArray(\"vx1\")\n",
        "    vel2 = data.GetCellData().GetArray(\"vx2\")\n",
        "    bfi1 = data.GetCellData().GetArray(\"Bx1\")\n",
        "    bfi2 = data.GetCellData().GetArray(\"Bx2\")\n",
        "    \n",
        "    # Get dimensions, needed to get 2D arrays, instead of 1D vectors\n",
        "    dim = data.GetDimensions()\n",
        "    vec = list(dim)\n",
        "    vec = [i-1 for i in dim]\n",
        "    \n",
        "    # Copy data into numpy arrays\n",
        "    rho = np.array(dens)\n",
        "    vx1 = np.array(vel1)\n",
        "    vx2 = np.array(vel2)\n",
        "    Bx1 = np.array(bfi1)\n",
        "    Bx2 = np.array(bfi2)\n",
        "    \n",
        "    # Reshape them into 3D arrays\n",
        "    rho = rho.reshape(vec[0],vec[1],order='F')\n",
        "    vx1 = vx1.reshape(vec[0],vec[1],order='F')\n",
        "    vx2 = vx2.reshape(vec[0],vec[1],order='F')\n",
        "    Bx1 = Bx1.reshape(vec[0],vec[1],order='F')\n",
        "    Bx2 = Bx2.reshape(vec[0],vec[1],order='F')\n",
        "    \n",
        "    # In astrophysical units\n",
        "    rho = rho*rho0       # Gas density in g/cm^3\n",
        "    nrh = rho/(mu*mm)    # Gas number density in cm^-3\n",
        "    vx1 = vx1*v0/1.e5    # X-velocity component in km/s\n",
        "    vx2 = vx2*v0/1.e5    # Y-velocity component in km/s\n",
        "    Bx1 = Bx1*bfi0       # X-Bfield component in G\n",
        "    Bx2 = Bx2*bfi0       # Y-Bfield component in G\n",
        "    \n",
        "    # Times\n",
        "    times = ascii.read(input_directory+times_file)\n",
        "    times = np.array(times['col2'])*l0/v0 # 1D array containing the simulation time in seconds\n",
        "    \n",
        "    return times, rho, nrh, vx1, vx2, Bx1, Bx2\n",
        "    # tr1 is a cloud material tracer"
      ],
      "id": "7Y-FVYR7NIG2",
      "execution_count": 118,
      "outputs": []
    },
    {
      "cell_type": "code",
      "metadata": {
        "id": "IczbogWWN-ic"
      },
      "source": [
        "f = open('rms_mach_number.txt', 'w')\n",
        "f.write(\"Time Rms_Mach_Number\\n\")\n",
        "\n",
        "for i in range(0,100,1):\n",
        "    times, dens, number_dens, velx, vely, Bfieldx, Bfieldy = read_my_vtk('data.00{:02}.vtk'.format(i))\n",
        "    \n",
        "    rms_flow_speed = np.sqrt(np.mean(velx**2 + vely**2))\n",
        "    rms_mach_number = rms_flow_speed/10\n",
        "\n",
        "    f.write(\"{:.5e} {:.5e}\\n\".format(times[i], rms_mach_number))\n",
        "\n",
        "f.close()"
      ],
      "id": "IczbogWWN-ic",
      "execution_count": 127,
      "outputs": []
    },
    {
      "cell_type": "code",
      "metadata": {
        "colab": {
          "base_uri": "https://localhost:8080/",
          "height": 517
        },
        "id": "LEOed1qqOXOt",
        "outputId": "48aedf71-2a27-4684-ce8f-4d8dd823e7c3"
      },
      "source": [
        "# From yesterday's lecture:\n",
        "\n",
        "import pandas as pd\n",
        "\n",
        "rms_mach_number_data = pd.read_csv('rms_mach_number.txt', sep='\\s+')\n",
        "\n",
        "%matplotlib inline\n",
        "print(rms_mach_number_data)\n",
        "lines = rms_mach_number_data.plot.line(x='Time', y='Rms_Mach_Number')"
      ],
      "id": "LEOed1qqOXOt",
      "execution_count": 128,
      "outputs": [
        {
          "output_type": "stream",
          "name": "stdout",
          "text": [
            "            Time  Rms_Mach_Number\n",
            "0   0.000000e+00         0.000000\n",
            "1   6.008750e+11         0.461439\n",
            "2   1.225490e+12         0.749282\n",
            "3   1.843370e+12         0.862008\n",
            "4   2.468550e+12         0.900880\n",
            "..           ...              ...\n",
            "95  5.862150e+13         0.904154\n",
            "96  5.923750e+13         0.886508\n",
            "97  5.986380e+13         0.906963\n",
            "98  6.048030e+13         0.901195\n",
            "99  6.108640e+13         0.885262\n",
            "\n",
            "[100 rows x 2 columns]\n"
          ]
        },
        {
          "output_type": "display_data",
          "data": {
            "image/png": "[encoded data removed]",
            "text/plain": [
              "<Figure size 432x288 with 1 Axes>"
            ]
          },
          "metadata": {
            "needs_background": "light"
          }
        }
      ]
    },
    {
      "cell_type": "markdown",
      "metadata": {
        "id": "4eLAo8i0Vj7D"
      },
      "source": [
        "Based on this result, the gas in the simulation is **subsonic**.\n",
        "\n"
      ],
      "id": "4eLAo8i0Vj7D"
    },
    {
      "cell_type": "markdown",
      "metadata": {
        "id": "M66dm0NaZgQ3"
      },
      "source": [
        "- Calculate the gas pressure using the isothermal equation of state ($p=\\rho\\,c_{\\rm iso}^2$), and make and print a 2D map of the pressure for file #70."
      ],
      "id": "M66dm0NaZgQ3"
    },
    {
      "cell_type": "code",
      "metadata": {
        "colab": {
          "base_uri": "https://localhost:8080/",
          "height": 281
        },
        "id": "X4ArkiJlXTXn",
        "outputId": "6e29bd93-6e73-49a6-b14c-e5ca7cd3b851"
      },
      "source": [
        "#Import data from file #70\n",
        "times, dens, number_dens, velx, vely, Bfieldx, Bfieldy = read_my_vtk('data.0070.vtk')\n",
        "\n",
        "dens = dens*100 #p = dens*(c_iso**2), c_iso = 10 km/h\n",
        "\n",
        "# Gas pressure map\n",
        "plt.title(\"Gas pressure\")\n",
        "plt.imshow(dens.T, interpolation='bilinear', cmap='Blues')\n",
        "plt.colorbar()\n",
        "plt.show()"
      ],
      "id": "X4ArkiJlXTXn",
      "execution_count": 130,
      "outputs": [
        {
          "output_type": "display_data",
          "data": {
            "image/png": "[encoded data removed]",
            "text/plain": [
              "<Figure size 432x288 with 2 Axes>"
            ]
          },
          "metadata": {
            "needs_background": "light"
          }
        }
      ]
    },
    {
      "cell_type": "markdown",
      "metadata": {
        "id": "y7F9cPezV6KH"
      },
      "source": [
        "\n",
        " \n",
        " \n",
        " - Now that you have the pressure, you can calculate the so-called plasma beta of the gas, which is a dimensionless parameter that relates thermal, $p$, and magnetic pressure $\\left(\\frac{B^2}{8\\,\\pi}\\right)$. Compute the plasma beta and make and print a 2D map for file #70.\n",
        " \n",
        " $$\\beta = \\frac{8\\,\\pi\\,p}{B^2}$$"
      ],
      "id": "y7F9cPezV6KH"
    },
    {
      "cell_type": "code",
      "metadata": {
        "colab": {
          "base_uri": "https://localhost:8080/",
          "height": 298
        },
        "id": "B4CJPKSHZm8f",
        "outputId": "38fe1af6-76d7-4ada-f12e-c2b24714a8ad"
      },
      "source": [
        "def magnitude(component1, component2):\n",
        "    magn = np.sqrt(component1**2+component2**2)\n",
        "    return magn\n",
        "\n",
        "# Magnetic field\n",
        "bmag = magnitude(Bfieldx,Bfieldy)\n",
        "\n",
        "beta = 8*np.pi*dens/(bmag*bmag)\n",
        "\n",
        "# Gas beta\n",
        "plt.title(\"Gas beta\")\n",
        "plt.imshow(beta.T, interpolation='bilinear', cmap='viridis')\n",
        "plt.colorbar()\n",
        "plt.show()"
      ],
      "id": "B4CJPKSHZm8f",
      "execution_count": 138,
      "outputs": [
        {
          "output_type": "stream",
          "name": "stdout",
          "text": [
            "3.1570128e-12 1.9000745e-22 479.13492\n"
          ]
        },
        {
          "output_type": "display_data",
          "data": {
            "image/png": "[encoded data removed]",
            "text/plain": [
              "<Figure size 432x288 with 2 Axes>"
            ]
          },
          "metadata": {
            "needs_background": "light"
          }
        }
      ]
    }
  ]
}