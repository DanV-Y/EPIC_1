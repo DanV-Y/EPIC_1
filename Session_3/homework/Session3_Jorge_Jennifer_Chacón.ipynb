{
 "cells": [
  {
   "cell_type": "markdown",
   "id": "561af5c9",
   "metadata": {},
   "source": [
    "## Exercises - Jorge Chacón y Jennifer Chcón"
   ]
  },
  {
   "cell_type": "markdown",
   "id": "e3c7a1f7",
   "metadata": {},
   "source": [
    "## Problem 1.\n",
    "Calculate:\n",
    "\n",
    "\n",
    " - The pressure of the plasma permeating the Solar corona. How does it compare to Earth's atmospheric pressure at the sea level? The number density of the Solar corona is $n=10^9\\,\\rm cm^{-3}$ and its temperature is $T=2\\times 10^6\\,\\rm K$.\n",
    " \n",
    " \n",
    " - The polytropic index of carbon-monoxide (CO) gas. Hint: Get the degrees of freedom first.\n",
    "\n",
    "\n",
    " - The mean particle mass (mean molecular weight) of air in our atmosphere (remember Nytrogen is the most abundant element). Once calculated, add it to the phase diagram $T$ vs. $\\mu$ shown in class. How does the value compare to that of atomic hydrogen?\n",
    "\n",
    "\n",
    " - The Reynolds number of the blood flow in the aorta. Hint: Use the Internet to get the parameters you need."
   ]
  },
  {
   "cell_type": "markdown",
   "id": "eb3d77d5",
   "metadata": {},
   "source": [
    "### Solución:"
   ]
  },
  {
   "cell_type": "markdown",
   "id": "928af9c8",
   "metadata": {},
   "source": [
    "#### 1.1 Presión\n",
    "Para la presión del plasma en la corona solar utilizaremos la ecuación de estado del gas ideal (EOS)\n",
    "$$p = n\\,k_B\\,T,$$\n",
    "con los datos:\n",
    "\n",
    "$$ n_{\\rm psc} =10^9\\,\\rm cm^{-3}$$ \n",
    "$$T_{\\rm psc} = 2\\times 10^6\\,\\rm K = 10^{6.3} \\, \\rm K $$\n",
    "\n",
    "Además, conocemos que a nivel del mar la presión atmosférica es de 1 atm y la temperatura 15°C, por tanto, usaremos:\n",
    "$$ n_{\\rm atm} = 2.548 \\times 10^{19} \\, \\rm cm^{-3} = 10^{19.4} \\, \\rm cm^{-3} $$\n",
    "$$ T_{\\rm atm} = 288.15 \\,\\rm K = 10^{2.46} \\, \\rm K$$\n",
    "\n",
    "A continuación las presiones estarán en $[\\rm dyne\\,cm^{-2}]$:"
   ]
  },
  {
   "cell_type": "code",
   "execution_count": 3,
   "id": "1bb8aded",
   "metadata": {},
   "outputs": [
    {
     "name": "stdout",
     "output_type": "stream",
     "text": [
      "Presión del plasma que penetra la corona Solar: 2.76000e-01\n",
      "Presión atmosférica en la tierra al nivel del mar: 1.01320e+06\n"
     ]
    }
   ],
   "source": [
    "# Importamos las librerias\n",
    "import numpy as np\n",
    "import matplotlib.pyplot as plt\n",
    "\n",
    "# Definimos la función presion (x,y)\n",
    "def pressure(x,y):\n",
    "    kb=1.38e-16 #constante de boltzmann\n",
    "    return (x*kb*y)\n",
    "\n",
    "# Imprimimos las presiones\n",
    "print('Presión del plasma que penetra la corona Solar:', \"{:0.5e}\".format(pressure(10**9,2e6)))\n",
    "print('Presión atmosférica en la tierra al nivel del mar:', \"{:0.5e}\".format(pressure(2.548e19,288.15)))"
   ]
  },
  {
   "cell_type": "markdown",
   "id": "83c26060",
   "metadata": {},
   "source": [
    "Existe una diferencia de 7 ordenes de magnitud. Comparemos estas presiones en un mapa de calor."
   ]
  },
  {
   "cell_type": "code",
   "execution_count": 4,
   "id": "7fc25170",
   "metadata": {},
   "outputs": [
    {
     "data": {
      "image/png": "[encoded data removed]",
      "text/plain": [
       "<Figure size 432x288 with 2 Axes>"
      ]
     },
     "metadata": {
      "needs_background": "light"
     },
     "output_type": "display_data"
    }
   ],
   "source": [
    "# cambiamos las variables a escala logarítmica\n",
    "\n",
    "# Plasma Corona Solar (psc)\n",
    "n1 = 9.\n",
    "T1 = 6.30103\n",
    "\n",
    "# Atmósfera terrestre (atm)\n",
    "n2 = 19.4062\n",
    "T2 = 2.46\n",
    "\n",
    "# Creamos un grid 2D con las variables n and T como X y Y.\n",
    "number_density = np.arange(0,22,0.01)\n",
    "temperature = np.arange(0,10,0.01)\n",
    "\n",
    "# Mapa de presiones dada la densidad y temperatura\n",
    "X, Y = np.meshgrid(number_density, temperature) \n",
    "\n",
    "# Calcula la presión\n",
    "pressure_1D = np.array(pressure(np.ravel(10**X), np.ravel(10**Y)))\n",
    "Z = pressure_1D.reshape(X.shape)\n",
    "# ravel(num**X): X elevado al exponente 10\n",
    "\n",
    "fig,ax=plt.subplots(1,1)\n",
    "cp = ax.contourf(X, Y, np.log10(Z), levels=np.linspace(-26, 16, 43), cmap='viridis')\n",
    "\n",
    "# Añadimos los puntos en el gráfico\n",
    "ax.scatter(n1, T1, c='red') # Plasma Corona Solar\n",
    "ax.scatter(n2, T2, c='blue') # Atmósfera terrestre a nivel del mar\n",
    "    \n",
    "# Add a colorbar and customise axes\n",
    "fig.colorbar(cp) \n",
    "ax.set_title(r'$ log_{10} p\\,\\rm [dyne\\,cm^{-2}$]') # título del gráfico\n",
    "ax.set_xticks(np.arange(0,23,2)) # marcas en el eje x\n",
    "ax.set_xlabel(r'$log_{10} n\\,\\rm [cm^{-3}]$') # nombre del eje x\n",
    "ax.set_yticks(np.arange(0,11,1)) # marcas en el eje y\n",
    "ax.set_ylabel(r'$log_{10} T\\,\\rm [K]$') # nombre del eje y\n",
    "plt.show()"
   ]
  },
  {
   "cell_type": "markdown",
   "id": "cd40bbee",
   "metadata": {},
   "source": [
    "#### 1.2 Polytropic index\n",
    "El índice politrópico (polytropic index) en función de los grados de libertad es:\n",
    "\n",
    "$$\\gamma = 1+\\frac{2}{f},$$\n",
    "\n",
    "El CO es una molécula diatómica que tiene 7 grados de libertad: 3 traslacionales, 2 rotacionales y 2 vibracionales.\n",
    "\n",
    "Por tanto,\n",
    "$$ \\gamma = \\frac{9}{7} $$"
   ]
  },
  {
   "cell_type": "code",
   "execution_count": 5,
   "id": "71ee30ce",
   "metadata": {},
   "outputs": [
    {
     "name": "stdout",
     "output_type": "stream",
     "text": [
      "El polytropic index del CO es:  1.2857\n"
     ]
    }
   ],
   "source": [
    "# Definimos una función \n",
    "def polytropic_index(f):\n",
    "    return (1+ 2/f)\n",
    "\n",
    "print('El polytropic index del CO es: ', \"{:0.5}\".format(polytropic_index(7)))"
   ]
  },
  {
   "cell_type": "markdown",
   "id": "93721f17",
   "metadata": {},
   "source": [
    "###### 1.3 Mean particle mass\n",
    "La masa media de partículas (mean particle mass) está dada por:\n",
    "\n",
    "$$\\frac{1}{\\mu}=\\sum_i{\\frac{x_i}{A_i}}\\left(1+Z_i\\right),$$\n",
    "\n",
    "donde $x_i$ es la fracción correspondiente a cada elemento $i$, $A_i$ es el número másico del elemento $i$ y $Z_i$ es la carga del núcleo.\n",
    "\n",
    "La atmósfeta terrestre está compuesta principalmente por:\n",
    "- Nitrógeno ($N_2$) 78%\n",
    "- Oxígeno ($O_2$) 21% \n",
    "- Argón ($Ar$) 0.934%\n",
    "\n",
    "donde se excluyeron los elementos que tienen menos de 1% de aporte (a excepción del argón).\n",
    "\n",
    "$$\\frac{1}{\\mu}= {\\frac{x_{N}}{A_{N}}}\\left(1+Z_N\\right) + {\\frac{x_{O}}{A_{O}}}\\left(1+Z_O\\right) + {\\frac{x_{Ar}}{A_{Ar}}}\\left(1+Z_{Ar}\\right) = 0.6082 \\:\\Longrightarrow\\: \\mu = 1.64418 $$"
   ]
  },
  {
   "cell_type": "code",
   "execution_count": 6,
   "id": "1dc8e034",
   "metadata": {},
   "outputs": [
    {
     "name": "stdout",
     "output_type": "stream",
     "text": [
      "Mean particle mass of air: 1.6442\n"
     ]
    }
   ],
   "source": [
    "# Definimos una función\n",
    "def summ_mpm(x,A,Z):\n",
    "    return ((x/A)*(1+Z))\n",
    "\n",
    "mu = summ_mpm(0.78,14,7) + summ_mpm(0.21,16,8) + summ_mpm(0.0934,40,18)\n",
    "mu = 1./mu\n",
    "\n",
    "print('Mean particle mass of air:' , \"{:0.5}\".format(mu))"
   ]
  },
  {
   "cell_type": "code",
   "execution_count": 7,
   "id": "9e4969a6",
   "metadata": {},
   "outputs": [
    {
     "ename": "ValueError",
     "evalue": "cannot reshape array of size 6000000 into shape (1000,3000)",
     "output_type": "error",
     "traceback": [
      "\u001b[0;31m---------------------------------------------------------------------------\u001b[0m",
      "\u001b[0;31mValueError\u001b[0m                                Traceback (most recent call last)",
      "\u001b[0;32m<ipython-input-7-318ca9c61768>\u001b[0m in \u001b[0;36m<module>\u001b[0;34m\u001b[0m\n\u001b[1;32m      7\u001b[0m \u001b[0;31m# Compute pressure on the grid\u001b[0m\u001b[0;34m\u001b[0m\u001b[0;34m\u001b[0m\u001b[0;34m\u001b[0m\u001b[0m\n\u001b[1;32m      8\u001b[0m \u001b[0mmean_particle_mass_1D\u001b[0m \u001b[0;34m=\u001b[0m \u001b[0mnp\u001b[0m\u001b[0;34m.\u001b[0m\u001b[0marray\u001b[0m\u001b[0;34m(\u001b[0m\u001b[0;34m(\u001b[0m\u001b[0mnp\u001b[0m\u001b[0;34m.\u001b[0m\u001b[0mravel\u001b[0m\u001b[0;34m(\u001b[0m\u001b[0mX\u001b[0m\u001b[0;34m)\u001b[0m\u001b[0;34m,\u001b[0m \u001b[0mnp\u001b[0m\u001b[0;34m.\u001b[0m\u001b[0mravel\u001b[0m\u001b[0;34m(\u001b[0m\u001b[0;36m10\u001b[0m\u001b[0;34m**\u001b[0m\u001b[0mY\u001b[0m\u001b[0;34m)\u001b[0m\u001b[0;34m)\u001b[0m\u001b[0;34m)\u001b[0m\u001b[0;34m\u001b[0m\u001b[0;34m\u001b[0m\u001b[0m\n\u001b[0;32m----> 9\u001b[0;31m \u001b[0mZ\u001b[0m \u001b[0;34m=\u001b[0m \u001b[0mmean_particle_mass_1D\u001b[0m\u001b[0;34m.\u001b[0m\u001b[0mreshape\u001b[0m\u001b[0;34m(\u001b[0m\u001b[0mX\u001b[0m\u001b[0;34m.\u001b[0m\u001b[0mshape\u001b[0m\u001b[0;34m)\u001b[0m\u001b[0;34m\u001b[0m\u001b[0;34m\u001b[0m\u001b[0m\n\u001b[0m\u001b[1;32m     10\u001b[0m \u001b[0;34m\u001b[0m\u001b[0m\n\u001b[1;32m     11\u001b[0m \u001b[0;31m# Plot pressure\u001b[0m\u001b[0;34m\u001b[0m\u001b[0;34m\u001b[0m\u001b[0;34m\u001b[0m\u001b[0m\n",
      "\u001b[0;31mValueError\u001b[0m: cannot reshape array of size 6000000 into shape (1000,3000)"
     ]
    }
   ],
   "source": [
    "# Create a 2D grid with n and T as X and Y.\n",
    "mu = np.arange(0,30,0.01) # llena el arreglo\n",
    "temperature = np.arange(0,10,0.01) # llena el arreglo\n",
    "\n",
    "X, Y = np.meshgrid(mu, temperature) # crea la grilla\n",
    "\n",
    "# Compute pressure on the grid\n",
    "mean_particle_mass_1D = np.array((np.ravel(X), np.ravel(10**Y)))\n",
    "Z = mean_particle_mass_1D.reshape(X.shape)\n",
    "\n",
    "# Plot pressure\n",
    "fig,ax=plt.subplots(1,1)\n",
    "cp = ax.contourf(X, Y, np.log10(Z), levels=np.linspace(3, 10, 91), cmap='magma_r')\n",
    "\n",
    "# Add a colorbar and customise axes\n",
    "fig.colorbar(cp, ticks = np.arange(3,11,1))\n",
    "ax.set_title(r'$\\log_{10} c_{\\rm sound}\\,\\rm [cm\\,s^{-1}$]')\n",
    "ax.set_xticks(np.arange(0,31.0,2.0))\n",
    "ax.set_xlabel(r'$\\mu$')\n",
    "ax.set_yticks(np.arange(0,11,1))\n",
    "ax.set_ylabel(r'$ log_{10} T\\,\\rm [K]$')\n",
    "plt.show()"
   ]
  },
  {
   "cell_type": "code",
   "execution_count": null,
   "id": "33940d4e",
   "metadata": {
    "scrolled": true
   },
   "outputs": [],
   "source": []
  },
  {
   "cell_type": "markdown",
   "id": "60ec2d76",
   "metadata": {},
   "source": [
    "## Problem 2.\n",
    "Considering the example of the swimming fish we saw in class, calculate the Reynolds numbers for different swimming speeds and make a plot of $R_{\\rm e}$ vs. speed. Indicate the laminar and turbulent regimes on the plot. At which speed does the fish start generating a turbulent flow in sea water?"
   ]
  },
  {
   "cell_type": "markdown",
   "id": "6af648e8",
   "metadata": {},
   "source": [
    "### Solución:\n",
    "\n",
    "El número de Reynolds está dado por:\n",
    "\n",
    "$$R_{\\rm e} = \\frac{v\\,l}{\\nu} = \\frac{\\rho\\,v\\,l}{\\mu}$$\n",
    "\n",
    "donde $l$ es la longitud característica del flujo. \n",
    "\n",
    "$R_e$ depende linealmente de $v$, para hacer el plot de $R_e$ vs. $v$ tomaremos valores de velocidad entre 0 y 25 $m/s$, en pasos de 1.\n",
    "\n",
    "La viscosidad dinámica del agua es:\n",
    "\n",
    "$$\\mu=0.00122\\,\\rm N\\,m^{-2}\\,s$$\n",
    "\n",
    "Y su densidad a $15\\,\\rm C$ is:\n",
    "\n",
    "$$\\rho=1026\\,\\rm kg\\,m^{-3}$$\n",
    "\n",
    "Además, asumiremos que $l$ es constante, tal que:\n",
    "\n",
    "$$l=1\\,\\rm m$$\n",
    "\n"
   ]
  },
  {
   "cell_type": "code",
   "execution_count": 8,
   "id": "f0155c41",
   "metadata": {
    "scrolled": false
   },
   "outputs": [
    {
     "data": {
      "image/png": "[encoded data removed]",
      "text/plain": [
       "<Figure size 432x288 with 1 Axes>"
      ]
     },
     "metadata": {
      "needs_background": "light"
     },
     "output_type": "display_data"
    }
   ],
   "source": [
    "# Definimos la función para calcular el numero de Reynolds\n",
    "def Re_number(vel):\n",
    "    # Parámetros en unidades SI \n",
    "    mu=0.00122\n",
    "    le=1\n",
    "    rho=1026\n",
    "    return (rho*vel*le)/(mu)\n",
    "\n",
    "vel = np.arange(0,0.005,0.0001) # velocidades entre 0 y 0.005 para que se vea mejor el gráfico\n",
    "Re = Re_number(vel) # números de Reynolds\n",
    "\n",
    "# Make plot\n",
    "fig,ax=plt.subplots(1,1)\n",
    "ax.plot(vel, Re, c='blue')\n",
    "\n",
    "#ax.set_title(r'Re number versus speed')\n",
    "ax.set_ylabel(r'Reynolds number')\n",
    "ax.set_xlabel(r'speed (m/s)')\n",
    "plt.axhline(y=1000,ls='--',c='red')\n",
    "plt.text(0.0015, 500, 'Laminar regime')\n",
    "plt.text(0.0025, 1500, 'Turbulent regime')\n",
    "plt.show()"
   ]
  },
  {
   "cell_type": "markdown",
   "id": "e33fdb68",
   "metadata": {},
   "source": [
    "Se consideró que la transición del régimen laminar al turbulento occurre a $R_{\\rm e}\\sim 10^3$.\n",
    "\n",
    "Con este dato, calculamos la velocidad a la que ocurre esta transición, para una unidad de longitud del flujo:\n",
    "\n",
    "$$ v  = \\frac{R_{\\rm e} \\mu}{\\rho\\,l} = \\frac{1000 \\times 0.00122}{1026 \\times 1} = 0.00189 \\, \\rm m/s$$"
   ]
  },
  {
   "cell_type": "markdown",
   "id": "2155d478",
   "metadata": {},
   "source": [
    "## Problem 3.\n",
    "Download the full dataset from the 2D turbulence simulation that we analysed in class (TURB_DRIVE) and:\n",
    "\n",
    " - Calculate the rms flow velocity and the corresponding rms Mach number as a function of time (see equations in the lecture notebook).\n",
    " \n",
    " \n",
    " - Save the data into a text file as shown in the example in class, and then make a plot of rms Mach number versus time. Remember that the sound speed of the simulation is $c_{\\rm iso}=10\\,\\rm km\\,s^{-1}$.\n",
    " \n",
    " \n",
    " - Based on the result above, is the gas subsonic or supersonic in this simulation?\n",
    " \n",
    " \n",
    " - Calculate the gas pressure using the isothermal equation of state ($p=\\rho\\,c_{\\rm iso}^2$), and make and print a 2D map of the pressure for file #70.\n",
    " \n",
    " \n",
    " - Now that you have the pressure, you can calculate the so-called plasma beta of the gas, which is a dimensionless parameter that relates thermal, $p$, and magnetic pressure $\\left(\\frac{B^2}{8\\,\\pi}\\right)$. Compute the plasma beta and make and print a 2D map for file #70.\n",
    " \n",
    " $$\\beta = \\frac{8\\,\\pi\\,p}{B^2}$$\n",
    " \n",
    "\n",
    "Full Data: https://www.dropbox.com/sh/gt3grmb24no04lp/AAAxAZGErA1E1cpZ0xENF1Xma?dl=0"
   ]
  },
  {
   "cell_type": "markdown",
   "id": "c0d5f03e",
   "metadata": {},
   "source": [
    "### Solución:\n",
    "\n",
    "El rms turbulence Mach number está dado por:\n",
    "\n",
    "$$M_{\\rm turb} = \\frac{v_{\\rm rms}}{c_{\\rm sound}},$$\n",
    "\n",
    "donde $v_{\\rm rms}=\\overline{v^2}$, y $c_{\\rm sound}$ es la velocidad del sonido del gas."
   ]
  },
  {
   "cell_type": "code",
   "execution_count": 9,
   "id": "e302325f",
   "metadata": {},
   "outputs": [],
   "source": [
    "# Utilizamos la función definida en la Sesion 3 para leer los datos\n",
    "def read_my_vtk(file_name):\n",
    "    \"\"\"Read Pluto's VTK simulation files and returns the variables in CGS units\"\"\"\n",
    "    \n",
    "    # Path to files\n",
    "    input_directory= \"./TURB_DRIVE/\" #\"../../TURB_DRIVE/\"\n",
    "    file_name = file_name\n",
    "    times_file = \"vtk.out\" # para los tiempos\n",
    "    \n",
    "    # Normalisation values\n",
    "    l0 = 3.086e+18                    # Length is 1pc\n",
    "    v0 = 1.e+6                        # Velocity is 10km/s\n",
    "    rho0 = 1.66e-24                   # In g/cm^3\n",
    "    mu = 6.72E-01                     # Mean particle mass\n",
    "    mm = 1.660E-24                    # 1 Atomic mass unit\n",
    "    kb = 1.380E-16                    # in CGS units\n",
    "    tem0 = (mu*(mm*(v0**2))/kb)       # in K\n",
    "    bfi0 = 4*math.pi*(rho0*(v0**2))   # in Gauss\n",
    "\n",
    "    # Standard VTK loading routines\n",
    "    reader= vtk.vtkDataSetReader()\n",
    "    reader.SetFileName(input_directory+file_name)\n",
    "    reader.ReadAllVectorsOn()\n",
    "    reader.ReadAllScalarsOn()\n",
    "    reader.Update()\n",
    "\n",
    "    # Get data using hearder information\n",
    "    data = reader.GetOutput() \n",
    "    dens = data.GetCellData().GetArray(\"rho\")\n",
    "    vel1 = data.GetCellData().GetArray(\"vx1\")\n",
    "    vel2 = data.GetCellData().GetArray(\"vx2\")\n",
    "    bfi1 = data.GetCellData().GetArray(\"vx1\")\n",
    "    bfi2 = data.GetCellData().GetArray(\"vx2\")\n",
    "    \n",
    "    # Get dimensions, needed to get 3D arrays, instead of 1D vectors\n",
    "    dim = data.GetDimensions()\n",
    "    vec = list(dim)\n",
    "    vec = [i-1 for i in dim]\n",
    "    \n",
    "    # Copy data into numpy arrays\n",
    "    rho = np.array(dens)\n",
    "    vx1 = np.array(vel1)\n",
    "    vx2 = np.array(vel2)\n",
    "    Bx1 = np.array(bfi1)\n",
    "    Bx2 = np.array(bfi2)\n",
    "    \n",
    "    # Reshape them into 3D arrays\n",
    "    rho = rho.reshape(vec[0],vec[1],order='F')\n",
    "    vx1 = vx1.reshape(vec[0],vec[1],order='F')\n",
    "    vx2 = vx2.reshape(vec[0],vec[1],order='F')\n",
    "    Bx1 = Bx1.reshape(vec[0],vec[1],order='F')\n",
    "    Bx2 = Bx2.reshape(vec[0],vec[1],order='F')\n",
    "    \n",
    "    # In astrophysical units\n",
    "    rho = rho*rho0       # Gas density in g/cm^3\n",
    "    nrh = rho/(mu*mm)    # Gas number density in cm^-3\n",
    "    vx1 = vx1*v0/1.e5    # X-velocity component in km/s\n",
    "    vx2 = vx2*v0/1.e5    # Y-velocity component in km/s\n",
    "    Bx1 = Bx1*bfi0       # X-Bfield component in G\n",
    "    Bx2 = Bx2*bfi0       # Y-Bfield component in G\n",
    "    \n",
    "    # Times\n",
    "    times = ascii.read(input_directory+times_file)\n",
    "    times = np.array(times['col2'])*l0/v0 # 1D array containing the simulation time in seconds\n",
    "    \n",
    "    return times, rho, nrh, vx1, vx2, Bx1, Bx2\n",
    "    # tr1 is a cloud material tracer"
   ]
  },
  {
   "cell_type": "code",
   "execution_count": 14,
   "id": "6bcd58a4",
   "metadata": {},
   "outputs": [],
   "source": [
    "# Guardamos los calculos de velocidad rms y mach number en un archivo txt\n",
    "from astropy.io import ascii\n",
    "import math\n",
    "import vtk\n",
    "\n",
    "f = open('averages2.txt', 'w')\n",
    "f.write(\"Time  Vrms  Mach\\n\")\n",
    "\n",
    "for i in range(0,100,1):\n",
    "    times, dens, number_dens, velx, vely, Bfieldx, Bfieldy = read_my_vtk('data.00{:02}.vtk'.format(i))\n",
    "    \n",
    "    vel_rms = np.mean((velx**2)*(vely**2))\n",
    "    mach = vel_rms/10000\n",
    "\n",
    "    f.write(\"{:.5e} {:.5e} {:.5e}\\n\".format(times[i],vel_rms,mach))\n",
    "\n",
    "f.close()"
   ]
  },
  {
   "cell_type": "code",
   "execution_count": null,
   "id": "6a32d41c",
   "metadata": {},
   "outputs": [],
   "source": [
    "fig,ax=plt.subplots(1,1)\n",
    "ax.plot(, energies, c='blue')\n",
    "\n",
    "ax.set_title(r'$E_k$ versus $\\lambda$')\n",
    "ax.set_xlabel(r'$\\lambda$')\n",
    "ax.set_ylabel(r'$E_k$')\n",
    "plt.show()"
   ]
  },
  {
   "cell_type": "code",
   "execution_count": null,
   "id": "dd563233",
   "metadata": {},
   "outputs": [],
   "source": []
  },
  {
   "cell_type": "code",
   "execution_count": null,
   "id": "e013912c",
   "metadata": {},
   "outputs": [],
   "source": []
  },
  {
   "cell_type": "code",
   "execution_count": null,
   "id": "f9d3c436",
   "metadata": {},
   "outputs": [],
   "source": []
  },
  {
   "cell_type": "code",
   "execution_count": null,
   "id": "6cfd9bbe",
   "metadata": {},
   "outputs": [],
   "source": []
  },
  {
   "cell_type": "code",
   "execution_count": null,
   "id": "7d24ae3f",
   "metadata": {},
   "outputs": [],
   "source": []
  }
 ],
 "metadata": {
  "kernelspec": {
   "display_name": "Python 3 (ipykernel)",
   "language": "python",
   "name": "python3"
  },
  "language_info": {
   "codemirror_mode": {
    "name": "ipython",
    "version": 3
   },
   "file_extension": ".py",
   "mimetype": "text/x-python",
   "name": "python",
   "nbconvert_exporter": "python",
   "pygments_lexer": "ipython3",
   "version": "3.7.11"
  }
 },
 "nbformat": 4,
 "nbformat_minor": 5
}
