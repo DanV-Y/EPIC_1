{
 "cells": [
  {
   "cell_type": "markdown",
   "id": "1b9ea5d7",
   "metadata": {},
   "source": [
    "# Data Analysis with python II (lecture)\n",
    "\n",
    "## What is turbulence?\n",
    "\n",
    "Turbulence is ubiquitouous in the Universe, yet it is not well understood.\n",
    "\n",
    "It arises as a result of non-linearity in the evolution of fluids (gases and liquids) that have small viscosity, which translates into large Reynolds numbers.\n",
    "\n",
    "## The Reynolds number:\n",
    "\n",
    "Given a gas with density, $\\rho$, and viscosity $\\mu$, moving at a speed, $v$, the Reynolds numbers is:\n",
    "\n",
    "$$R_e = \\frac{\\rho\\,v\\,l}{\\mu}$$\n",
    "\n",
    "where $l$ is a characteristic length of the flow.</br>\n",
    "\n",
    "We can see that $R_e$ depends linearly on $v$, which implies that the Reynolds number becomes larger as the flow velocity increases. This means flows can transition from laminar (low Reynolds numbers) to turbulent (high Reynolds numbers), when the speed increases.\n",
    "\n",
    "## Turbulence Mach number:\n",
    "\n",
    "Within a turbulent gas, the velocity field is therefore non-uniform and vary spatially and with time. Therefore, it is common to study them using the rms turbulence Mach number:\n",
    "\n",
    "$$M_{turb} = \\frac{v_{\\rm rms}}{c_{\\rm sound}}$$\n"
   ]
  },
  {
   "cell_type": "code",
   "execution_count": null,
   "id": "52a3c4f0",
   "metadata": {},
   "outputs": [],
   "source": []
  }
 ],
 "metadata": {
  "kernelspec": {
   "display_name": "Python 3",
   "language": "python",
   "name": "python3"
  },
  "language_info": {
   "codemirror_mode": {
    "name": "ipython",
    "version": 3
   },
   "file_extension": ".py",
   "mimetype": "text/x-python",
   "name": "python",
   "nbconvert_exporter": "python",
   "pygments_lexer": "ipython3",
   "version": "3.7.10"
  }
 },
 "nbformat": 4,
 "nbformat_minor": 5
}
