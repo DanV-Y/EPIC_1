{
 "cells": [
  {
   "cell_type": "markdown",
   "id": "aa268f46",
   "metadata": {},
   "source": [
    "# Data Analysis with python II (tutorial)"
   ]
  },
  {
   "cell_type": "markdown",
   "id": "250b1189",
   "metadata": {},
   "source": [
    "## Wladimir Banda-Barragán"
   ]
  },
  {
   "cell_type": "markdown",
   "id": "b50caa6e",
   "metadata": {},
   "source": [
    "Please complete the following problems. You can work with your **TEAM** members.\n",
    "\n",
    "When you finish, you can call your notebook with the TEAM's name, e.g. TEAM_name.ipynb, and also include your names in the notebook. Then, you can create a pull request to the subfolder **homework** in Session 3.\n",
    "\n",
    "Note that data for the exercises are not given on purpose. Use online material to **INVESTIGATE** what data you need to solve the problems.\n",
    "\n",
    "Within a **SINGLE python notebook**, add the following:"
   ]
  },
  {
   "cell_type": "markdown",
   "id": "befda801",
   "metadata": {},
   "source": [
    "### Problem 1.\n",
    "Calculate:\n",
    "\n",
    "\n",
    " - The pressure of the plasma permeating the Solar corona. How does it compare to Earth's atmospheric pressure at the sea level? The number density of the Solar corona is $n=10^9\\,\\rm cm^{-3}$ and its temperature is $T=2\\times 10^6\\,\\rm K$.\n",
    " \n",
    " \n",
    " - The polytropic index of carbon-monoxide (CO) gas. Hint: Get the degrees of freedom first.\n",
    "\n",
    "\n",
    " - The mean particle mass (mean molecular weight) of air in our atmosphere (remember Nytrogen is the most abundant element). Once calculated, add it to the phase diagram $T$ vs. $\\mu$ shown in class. How does the value compare to that of atomic hydrogen?\n",
    "\n",
    "\n",
    " - The Reynolds number of the blood flow in the aorta. Hint: Use the Internet to get the parameters you need.\n",
    "\n",
    "\n",
    "### Problem 2.\n",
    "Considering the example of the swimming fish we saw in class, calculate the Reynolds numbers for different swimming speeds and make a plot of $R_{\\rm e}$ vs. speed. Indicate the laminar and turbulent regimes on the plot. At which speed does the fish start generating a turbulent flow in sea water?\n",
    "\n",
    "\n",
    "### Problem 3.\n",
    "Download the full dataset from the 2D turbulence simulation that we analysed in class (TURB_DRIVE) and:\n",
    "\n",
    " - Calculate the rms flow velocity and the corresponding rms Mach number as a function of time (see equations in the lecture notebook).\n",
    " \n",
    " \n",
    " - Save the data into a text file as shown in the example in class, and then make a plot of rms Mach number versus time. Remember that the sound speed of the simulation is $c_{\\rm iso}=10\\,\\rm km\\,s^{-1}$.\n",
    " \n",
    " \n",
    " - Based on the result above, is the gas subsonic or supersonic in this simulation?\n",
    " \n",
    " \n",
    " - Calculate the gas pressure using the isothermal equation of state ($p=\\rho\\,c_{\\rm iso}^2$), and make and print a 2D map of the pressure for file #70.\n",
    " \n",
    " \n",
    " - Now that you have the pressure, you can calculate the so-called plasma beta of the gas, which is a dimensionless parameter that relates thermal, $p$, and magnetic pressure $\\left(\\frac{B^2}{8\\,\\pi}\\right)$. Compute the plasma beta and make and print a 2D map for file #70.\n",
    " \n",
    " $$\\beta = \\frac{8\\,\\pi\\,p}{B^2}$$\n",
    " \n",
    "\n",
    "Full Data: https://www.dropbox.com/sh/gt3grmb24no04lp/AAAxAZGErA1E1cpZ0xENF1Xma?dl=0"
   ]
  }
 ],
 "metadata": {
  "kernelspec": {
   "display_name": "Python 3",
   "language": "python",
   "name": "python3"
  },
  "language_info": {
   "codemirror_mode": {
    "name": "ipython",
    "version": 3
   },
   "file_extension": ".py",
   "mimetype": "text/x-python",
   "name": "python",
   "nbconvert_exporter": "python",
   "pygments_lexer": "ipython3",
   "version": "3.7.10"
  }
 },
 "nbformat": 4,
 "nbformat_minor": 5
}
