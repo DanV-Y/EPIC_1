{
 "cells": [
  {
   "cell_type": "markdown",
   "id": "aa268f46",
   "metadata": {},
   "source": [
    "# Data Analysis with python II (tutorial)"
   ]
  },
  {
   "cell_type": "markdown",
   "id": "250b1189",
   "metadata": {},
   "source": [
    "## Wladimir Banda-Barragán"
   ]
  },
  {
   "cell_type": "markdown",
   "id": "b50caa6e",
   "metadata": {},
   "source": [
    "Please complete the following problems. You can work individually or in groups of maximum 2 people.\n",
    "\n",
    "When you finish, you can call your notebook with your initials, e.g. wbandabarragan.ipynb, and also include your names in the notebook. Then, you can create a pull request to the subfolder **homework** in Session 3.\n",
    "\n",
    "Data for the exercises are not given purposely. Use online material to INVESTIGATE what data you need to solve the problems.\n",
    "\n",
    "Within a SINGLE python notebook:"
   ]
  },
  {
   "cell_type": "markdown",
   "id": "befda801",
   "metadata": {},
   "source": [
    "### Problem 1.\n",
    "Calculate:\n",
    "\n",
    "\n",
    " - The pressure of the plasma permeating the Solar corona. How does it compare to Earth's atmospheric pressure at the sea level?\n",
    " \n",
    " \n",
    " - The polytropic index of carbon-monoxide (CO) gas.\n",
    "\n",
    "\n",
    "- The mean particle mass (mean molecular weight) of air in our atmosphere. Once calculated, add it to the phase diagram $T$ vs. $\\mu$ shown in class. How does the value compare to that of atomic hydrogen?\n",
    "\n",
    "\n",
    "- The Reynolds number of the blood flow in the aorta.\n",
    "\n",
    "\n",
    "### Problem 2.\n",
    "Considering the example of the swimming fish we saw in class, calculate the Reynolds numbers for different swimming speeds and make a plot of $R_{\\rm e}$ vs. speed. At which speed does the fish start generating turbulence in the water?"
   ]
  },
  {
   "cell_type": "code",
   "execution_count": null,
   "id": "be3f012e",
   "metadata": {},
   "outputs": [],
   "source": []
  }
 ],
 "metadata": {
  "kernelspec": {
   "display_name": "Python 3",
   "language": "python",
   "name": "python3"
  },
  "language_info": {
   "codemirror_mode": {
    "name": "ipython",
    "version": 3
   },
   "file_extension": ".py",
   "mimetype": "text/x-python",
   "name": "python",
   "nbconvert_exporter": "python",
   "pygments_lexer": "ipython3",
   "version": "3.7.10"
  }
 },
 "nbformat": 4,
 "nbformat_minor": 5
}
